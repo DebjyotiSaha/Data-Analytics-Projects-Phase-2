{
 "cells": [
  {
   "cell_type": "markdown",
   "id": "8a525f06-049b-4b08-bbbb-d7c39121414b",
   "metadata": {},
   "source": [
    "#### What This Code Does:\n",
    "1. Exploration: Highlights missing values and the distribution of key columns.\n",
    "2. Cleaning: Drops rows with missing population codes if necessary.\n",
    "3. Visualization: Plots the superpopulation code distribution.\n",
    "4. Output: Saves the cleaned dataset to a new Excel file (cleaned_igsr_samples.xlsx)."
   ]
  },
  {
   "cell_type": "code",
   "execution_count": 1,
   "id": "4c1ae08c-1501-4be7-ae2d-5e676f9cd671",
   "metadata": {},
   "outputs": [],
   "source": [
    "import pandas as pd\n",
    "import matplotlib.pyplot as plt"
   ]
  },
  {
   "cell_type": "code",
   "execution_count": 5,
   "id": "52e56ca6-078e-4286-995f-02bd563e5261",
   "metadata": {},
   "outputs": [],
   "source": [
    "file_path = r\"E:\\Data Analytics\\Genome Sample\\igsr_samples.xlsx\"\n",
    "df = pd.read_excel(file_path)"
   ]
  },
  {
   "cell_type": "code",
   "execution_count": 7,
   "id": "900b4273-6a9d-491d-aedc-a465a966232d",
   "metadata": {},
   "outputs": [],
   "source": [
    "#Clean and standardise columns\n",
    "df.columns = df.columns.str.strip().str.lower().str.replace(\" \", \"_\")"
   ]
  },
  {
   "cell_type": "code",
   "execution_count": 21,
   "id": "4a769d8b-24db-4671-b61b-edce3f0bb6f1",
   "metadata": {},
   "outputs": [
    {
     "data": {
      "text/html": [
       "<div>\n",
       "<style scoped>\n",
       "    .dataframe tbody tr th:only-of-type {\n",
       "        vertical-align: middle;\n",
       "    }\n",
       "\n",
       "    .dataframe tbody tr th {\n",
       "        vertical-align: top;\n",
       "    }\n",
       "\n",
       "    .dataframe thead th {\n",
       "        text-align: right;\n",
       "    }\n",
       "</style>\n",
       "<table border=\"1\" class=\"dataframe\">\n",
       "  <thead>\n",
       "    <tr style=\"text-align: right;\">\n",
       "      <th></th>\n",
       "      <th>column_1</th>\n",
       "      <th>column_2</th>\n",
       "      <th>column_3</th>\n",
       "      <th>column_4</th>\n",
       "      <th>column_5</th>\n",
       "      <th>column_6</th>\n",
       "      <th>column_7</th>\n",
       "      <th>column_8</th>\n",
       "      <th>column_9</th>\n",
       "    </tr>\n",
       "  </thead>\n",
       "  <tbody>\n",
       "    <tr>\n",
       "      <th>0</th>\n",
       "      <td>Sample name</td>\n",
       "      <td>Sex</td>\n",
       "      <td>Biosample ID</td>\n",
       "      <td>Population code</td>\n",
       "      <td>Population name</td>\n",
       "      <td>Superpopulation code</td>\n",
       "      <td>Superpopulation name</td>\n",
       "      <td>Population elastic ID</td>\n",
       "      <td>Data collections</td>\n",
       "    </tr>\n",
       "    <tr>\n",
       "      <th>1</th>\n",
       "      <td>HG00098</td>\n",
       "      <td>male</td>\n",
       "      <td>SAME123272</td>\n",
       "      <td>GBR</td>\n",
       "      <td>British</td>\n",
       "      <td>EUR</td>\n",
       "      <td>European Ancestry</td>\n",
       "      <td>GBR</td>\n",
       "      <td>1000 Genomes on GRCh38,1000 Genomes phase 3 re...</td>\n",
       "    </tr>\n",
       "    <tr>\n",
       "      <th>2</th>\n",
       "      <td>HG00101</td>\n",
       "      <td>male</td>\n",
       "      <td>SAME125153</td>\n",
       "      <td>GBR</td>\n",
       "      <td>British</td>\n",
       "      <td>EUR</td>\n",
       "      <td>European Ancestry</td>\n",
       "      <td>GBR</td>\n",
       "      <td>1000 Genomes on GRCh38,1000 Genomes 30x on GRC...</td>\n",
       "    </tr>\n",
       "    <tr>\n",
       "      <th>3</th>\n",
       "      <td>HG00459</td>\n",
       "      <td>male</td>\n",
       "      <td>SAME125269</td>\n",
       "      <td>CHS</td>\n",
       "      <td>Southern Han Chinese</td>\n",
       "      <td>EAS</td>\n",
       "      <td>East Asian Ancestry</td>\n",
       "      <td>CHS</td>\n",
       "      <td>1000 Genomes 30x on GRCh38,1000 Genomes phase ...</td>\n",
       "    </tr>\n",
       "    <tr>\n",
       "      <th>4</th>\n",
       "      <td>HG00473</td>\n",
       "      <td>female</td>\n",
       "      <td>SAME123338</td>\n",
       "      <td>CHS</td>\n",
       "      <td>Southern Han Chinese</td>\n",
       "      <td>EAS</td>\n",
       "      <td>East Asian Ancestry</td>\n",
       "      <td>CHS</td>\n",
       "      <td>1000 Genomes on GRCh38,1000 Genomes 30x on GRC...</td>\n",
       "    </tr>\n",
       "  </tbody>\n",
       "</table>\n",
       "</div>"
      ],
      "text/plain": [
       "      column_1 column_2      column_3         column_4              column_5  \\\n",
       "0  Sample name      Sex  Biosample ID  Population code       Population name   \n",
       "1      HG00098     male    SAME123272              GBR               British   \n",
       "2      HG00101     male    SAME125153              GBR               British   \n",
       "3      HG00459     male    SAME125269              CHS  Southern Han Chinese   \n",
       "4      HG00473   female    SAME123338              CHS  Southern Han Chinese   \n",
       "\n",
       "               column_6              column_7               column_8  \\\n",
       "0  Superpopulation code  Superpopulation name  Population elastic ID   \n",
       "1                   EUR     European Ancestry                    GBR   \n",
       "2                   EUR     European Ancestry                    GBR   \n",
       "3                   EAS   East Asian Ancestry                    CHS   \n",
       "4                   EAS   East Asian Ancestry                    CHS   \n",
       "\n",
       "                                            column_9  \n",
       "0                                   Data collections  \n",
       "1  1000 Genomes on GRCh38,1000 Genomes phase 3 re...  \n",
       "2  1000 Genomes on GRCh38,1000 Genomes 30x on GRC...  \n",
       "3  1000 Genomes 30x on GRCh38,1000 Genomes phase ...  \n",
       "4  1000 Genomes on GRCh38,1000 Genomes 30x on GRC...  "
      ]
     },
     "execution_count": 21,
     "metadata": {},
     "output_type": "execute_result"
    }
   ],
   "source": [
    "df.head()"
   ]
  },
  {
   "cell_type": "code",
   "execution_count": null,
   "id": "312e9ad2-f376-46f1-8d96-afab55df5ae3",
   "metadata": {},
   "outputs": [],
   "source": []
  },
  {
   "cell_type": "code",
   "execution_count": 23,
   "id": "5f4d0147-bc85-48da-a885-e1b4ccc9c8c1",
   "metadata": {},
   "outputs": [],
   "source": [
    "#Convert relevant columns to categorical\n",
    "categorical_columns = ['column_2', 'column_4', 'column_6']\n",
    "for col in categorical_columns:\n",
    "    if col in df.columns:\n",
    "        df[col] = df[col].astype('category')"
   ]
  },
  {
   "cell_type": "code",
   "execution_count": 25,
   "id": "59840416-f2c1-44b7-823c-1e99abe2184a",
   "metadata": {},
   "outputs": [],
   "source": [
    "#\n",
    "columns_to_check = ['column_3', 'column_4', 'column_6', 'column_9']\n",
    "missing_data_summary = df[columns_to_check].isnull().sum()\n",
    "total_rows = len(df)\n",
    "missing_data_percentage = (missing_data_summary/total_rows) * 100"
   ]
  },
  {
   "cell_type": "code",
   "execution_count": 29,
   "id": "4bc99b90-1e1a-4be2-81ca-3745eaa8a59c",
   "metadata": {},
   "outputs": [
    {
     "name": "stdout",
     "output_type": "stream",
     "text": [
      "Missing Data Summary for Selected Columns:\n",
      "          Missing Count  Missing Percentage (%)\n",
      "column_3           1234                   24.78\n",
      "column_4           1067                   21.43\n",
      "column_6           1070                   21.49\n",
      "column_9             98                    1.97\n"
     ]
    }
   ],
   "source": [
    "# Check for missing data in specific columns\n",
    "print('Missing Data Summary for Selected Columns:')\n",
    "missing_summary_df = pd.DataFrame({\n",
    "    'Missing Count': missing_data_summary,\n",
    "    'Missing Percentage (%)': missing_data_percentage.round(2)\n",
    "})\n",
    "print(missing_summary_df)"
   ]
  },
  {
   "cell_type": "code",
   "execution_count": 31,
   "id": "e4dd175e-ae7b-4649-a80a-3a852759c8ef",
   "metadata": {},
   "outputs": [],
   "source": [
    "df_cleaned = df.dropna(subset=['column_4', 'column_6'])"
   ]
  },
  {
   "cell_type": "code",
   "execution_count": 39,
   "id": "95a0ae09-aeaf-4eb8-b815-7d3db85738f8",
   "metadata": {},
   "outputs": [],
   "source": [
    "def summarise_with_percentage(column):\n",
    "    counts = df_cleaned[column].value_counts()\n",
    "    percentages = (counts/len(df_cleaned)) * 100\n",
    "    return pd.DataFrame({'Count': counts, 'Percentage (%)': percentages.round(2)})\n"
   ]
  },
  {
   "cell_type": "code",
   "execution_count": 41,
   "id": "6fe6ff9d-dba2-4c97-b7b5-baff909e8380",
   "metadata": {},
   "outputs": [
    {
     "name": "stdout",
     "output_type": "stream",
     "text": [
      "\n",
      "Sex Distribution\n",
      "          Count  Percentage (%)\n",
      "column_2                       \n",
      "female     1963           50.22\n",
      "male       1945           49.76\n",
      "Sex           1            0.03\n"
     ]
    }
   ],
   "source": [
    "print('\\nSex Distribution')\n",
    "print(summarise_with_percentage('column_2'))"
   ]
  },
  {
   "cell_type": "code",
   "execution_count": 45,
   "id": "1da48411-1c3f-445e-9468-7b9c31561ddd",
   "metadata": {},
   "outputs": [
    {
     "name": "stdout",
     "output_type": "stream",
     "text": [
      "\n",
      "Population Code Distribution (Top 10):\n",
      "          Count  Percentage (%)\n",
      "column_4                       \n",
      "GWD         280            7.16\n",
      "YRI         187            4.78\n",
      "CEU         184            4.71\n",
      "ESN         173            4.43\n",
      "CHS         171            4.37\n",
      "IBS         161            4.12\n",
      "PJL         158            4.04\n",
      "PUR         150            3.84\n",
      "CLM         148            3.79\n",
      "BEB         144            3.68\n"
     ]
    }
   ],
   "source": [
    "print('\\nPopulation Code Distribution (Top 10):')\n",
    "print(summarise_with_percentage('column_4').head(10))"
   ]
  },
  {
   "cell_type": "code",
   "execution_count": 47,
   "id": "0a398862-fb28-46d1-a889-e01edd1ad192",
   "metadata": {},
   "outputs": [
    {
     "name": "stdout",
     "output_type": "stream",
     "text": [
      "\n",
      "Superpopulation Code Distribution:\n",
      "                      Count  Percentage (%)\n",
      "column_6                                   \n",
      "AFR                    1421           36.35\n",
      "EUR                     669           17.11\n",
      "SAS                     661           16.91\n",
      "EAS                     621           15.89\n",
      "AMR                     535           13.69\n",
      "EUR,AFR                   1            0.03\n",
      "Superpopulation code      1            0.03\n"
     ]
    }
   ],
   "source": [
    "print('\\nSuperpopulation Code Distribution:')\n",
    "print(summarise_with_percentage('column_6'))"
   ]
  },
  {
   "cell_type": "code",
   "execution_count": 53,
   "id": "8ec36eb5-8634-4841-8292-1ccdda58d074",
   "metadata": {},
   "outputs": [
    {
     "data": {
      "image/png": "[encoded data removed]",
      "text/plain": [
       "<Figure size 1000x600 with 1 Axes>"
      ]
     },
     "metadata": {},
     "output_type": "display_data"
    }
   ],
   "source": [
    "plt.figure(figsize=(10,6))\n",
    "superpop_summary = summarise_with_percentage('column_6')\n",
    "superpop_summary['Count'].plot(kind='bar', color='skyblue')\n",
    "plt.title('Superpopulation Code Distribution')\n",
    "plt.xlabel('Superpopulation Code')\n",
    "plt.ylabel('Count')\n",
    "plt.show()"
   ]
  },
  {
   "cell_type": "code",
   "execution_count": 55,
   "id": "9f47e1d1-4b55-4d7c-b3f4-16d695fbdf12",
   "metadata": {},
   "outputs": [
    {
     "name": "stdout",
     "output_type": "stream",
     "text": [
      "Cleaned dataset saved to cleaned_genome_sample.xlsx\n"
     ]
    }
   ],
   "source": [
    "cleaned_file_path = 'cleaned_genome_sample.xlsx'\n",
    "df_cleaned.to_excel(cleaned_file_path, index=False)\n",
    "print(f\"Cleaned dataset saved to {cleaned_file_path}\")"
   ]
  }
 ],
 "metadata": {
  "kernelspec": {
   "display_name": "Python 3 (ipykernel)",
   "language": "python",
   "name": "python3"
  },
  "language_info": {
   "codemirror_mode": {
    "name": "ipython",
    "version": 3
   },
   "file_extension": ".py",
   "mimetype": "text/x-python",
   "name": "python",
   "nbconvert_exporter": "python",
   "pygments_lexer": "ipython3",
   "version": "3.12.7"
  }
 },
 "nbformat": 4,
 "nbformat_minor": 5
}
