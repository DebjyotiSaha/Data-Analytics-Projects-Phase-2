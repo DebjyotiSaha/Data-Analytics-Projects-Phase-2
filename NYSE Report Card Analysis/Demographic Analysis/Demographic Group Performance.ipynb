{
 "cells": [
  {
   "cell_type": "markdown",
   "id": "37703941-a58d-4dc3-9b81-216755dd0059",
   "metadata": {},
   "source": [
    "### Demographic Group Performance\n",
    "1. How do male and female students compare in proficiency rates across all subjects?\n",
    "2. Which racial/ethnic group has the highest mean scores in Math?\n",
    "3. Are there significant differences in proficiency rates for students with disabilities versus general education students?\n",
    "4. What percentage of economically disadvantaged students scored proficient in Science?\n",
    "5. How do proficiency rates for migrant students compare to non-migrant students?"
   ]
  },
  {
   "cell_type": "code",
   "execution_count": null,
   "id": "81c3a1b3-0c80-4606-a4b6-e5e7597bcad4",
   "metadata": {},
   "outputs": [],
   "source": []
  },
  {
   "cell_type": "markdown",
   "id": "229e3de3-85f2-49a7-95b5-f732dc80d960",
   "metadata": {},
   "source": [
    "#### How do male and female students compare in proficiency rates across all subjects?"
   ]
  },
  {
   "cell_type": "code",
   "execution_count": 2,
   "id": "954fd00a-3d21-4913-a615-5becf60a9907",
   "metadata": {},
   "outputs": [],
   "source": [
    "import pandas as pd"
   ]
  },
  {
   "cell_type": "code",
   "execution_count": 4,
   "id": "8384e9a6-a5ea-4a2f-ba72-27fb2b7034a0",
   "metadata": {},
   "outputs": [],
   "source": [
    "# Load datasets\n",
    "data_ela = pd.read_excel(r'E:\\Data Analytics\\NYSE Report Card\\Annual_EM_ELA.xlsx')"
   ]
  },
  {
   "cell_type": "code",
   "execution_count": 10,
   "id": "5c37f766-077b-422d-819d-42cd66829f48",
   "metadata": {},
   "outputs": [],
   "source": [
    "data_math = pd.read_excel(r'E:\\Data Analytics\\NYSE Report Card\\Annual_EM_MATH.xlsx')"
   ]
  },
  {
   "cell_type": "code",
   "execution_count": 12,
   "id": "45567ab0-cf48-4e62-a4c9-811a83929077",
   "metadata": {},
   "outputs": [],
   "source": [
    "data_science = pd.read_excel(r'E:\\Data Analytics\\NYSE Report Card\\Annual_EM_SCIENCE.xlsx')"
   ]
  },
  {
   "cell_type": "code",
   "execution_count": 14,
   "id": "3f1a4e00-fcb1-44da-86f2-210a6e090258",
   "metadata": {},
   "outputs": [],
   "source": [
    "# Combine data from all subjects\n",
    "data_ela[\"PER_PROF\"] = pd.to_numeric(data_ela[\"PER_PROF\"], errors='coerce')\n",
    "data_math[\"PER_PROF\"] = pd.to_numeric(data_math[\"PER_PROF\"], errors='coerce')\n",
    "data_science[\"PER_PROF\"] = pd.to_numeric(data_science['PER_PROF'], errors='coerce')"
   ]
  },
  {
   "cell_type": "code",
   "execution_count": 16,
   "id": "40c53998-1853-4b7c-b287-4deb4bf7fcc1",
   "metadata": {},
   "outputs": [],
   "source": [
    "all_subjects = pd.concat([data_ela, data_math, data_science])"
   ]
  },
  {
   "cell_type": "code",
   "execution_count": 18,
   "id": "03391cec-5d6e-4146-ba15-445d3b6cec20",
   "metadata": {},
   "outputs": [
    {
     "data": {
      "text/html": [
       "<div>\n",
       "<style scoped>\n",
       "    .dataframe tbody tr th:only-of-type {\n",
       "        vertical-align: middle;\n",
       "    }\n",
       "\n",
       "    .dataframe tbody tr th {\n",
       "        vertical-align: top;\n",
       "    }\n",
       "\n",
       "    .dataframe thead th {\n",
       "        text-align: right;\n",
       "    }\n",
       "</style>\n",
       "<table border=\"1\" class=\"dataframe\">\n",
       "  <thead>\n",
       "    <tr style=\"text-align: right;\">\n",
       "      <th></th>\n",
       "      <th>INSTITUTION_ID</th>\n",
       "      <th>ENTITY_CD</th>\n",
       "      <th>ENTITY_NAME</th>\n",
       "      <th>YEAR</th>\n",
       "      <th>ASSESSMENT_NAME</th>\n",
       "      <th>SUBGROUP_NAME</th>\n",
       "      <th>TOTAL_COUNT</th>\n",
       "      <th>NOT_TESTED</th>\n",
       "      <th>PCT_NOT_TESTED</th>\n",
       "      <th>NUM_TESTED</th>\n",
       "      <th>...</th>\n",
       "      <th>LEVEL3_COUNT</th>\n",
       "      <th>LEVEL3_%TESTED</th>\n",
       "      <th>LEVEL4_COUNT</th>\n",
       "      <th>LEVEL4_%TESTED</th>\n",
       "      <th>NUM_PROF</th>\n",
       "      <th>PER_PROF</th>\n",
       "      <th>TOTAL_SCALE_SCORES</th>\n",
       "      <th>MEAN_SCORE</th>\n",
       "      <th>LEVEL5_COUNT</th>\n",
       "      <th>LEVEL5_%TESTED</th>\n",
       "    </tr>\n",
       "  </thead>\n",
       "  <tbody>\n",
       "    <tr>\n",
       "      <th>0</th>\n",
       "      <td>NaN</td>\n",
       "      <td>1</td>\n",
       "      <td>High Need/Resource Category: New York City Dis...</td>\n",
       "      <td>2023</td>\n",
       "      <td>ELA6</td>\n",
       "      <td>All Students</td>\n",
       "      <td>59583.0</td>\n",
       "      <td>7757.0</td>\n",
       "      <td>13.0</td>\n",
       "      <td>51826</td>\n",
       "      <td>...</td>\n",
       "      <td>13675</td>\n",
       "      <td>26</td>\n",
       "      <td>11145</td>\n",
       "      <td>22</td>\n",
       "      <td>24820</td>\n",
       "      <td>48.0</td>\n",
       "      <td>23158709</td>\n",
       "      <td>447</td>\n",
       "      <td>NaN</td>\n",
       "      <td>NaN</td>\n",
       "    </tr>\n",
       "    <tr>\n",
       "      <th>1</th>\n",
       "      <td>NaN</td>\n",
       "      <td>1</td>\n",
       "      <td>High Need/Resource Category: New York City Dis...</td>\n",
       "      <td>2023</td>\n",
       "      <td>ELA8</td>\n",
       "      <td>All Students</td>\n",
       "      <td>64216.0</td>\n",
       "      <td>10495.0</td>\n",
       "      <td>16.0</td>\n",
       "      <td>53721</td>\n",
       "      <td>...</td>\n",
       "      <td>17832</td>\n",
       "      <td>33</td>\n",
       "      <td>14404</td>\n",
       "      <td>27</td>\n",
       "      <td>32236</td>\n",
       "      <td>60.0</td>\n",
       "      <td>24395380</td>\n",
       "      <td>454</td>\n",
       "      <td>NaN</td>\n",
       "      <td>NaN</td>\n",
       "    </tr>\n",
       "    <tr>\n",
       "      <th>2</th>\n",
       "      <td>NaN</td>\n",
       "      <td>1</td>\n",
       "      <td>High Need/Resource Category: New York City Dis...</td>\n",
       "      <td>2023</td>\n",
       "      <td>ELA7</td>\n",
       "      <td>All Students</td>\n",
       "      <td>61290.0</td>\n",
       "      <td>7945.0</td>\n",
       "      <td>13.0</td>\n",
       "      <td>53345</td>\n",
       "      <td>...</td>\n",
       "      <td>15806</td>\n",
       "      <td>30</td>\n",
       "      <td>11770</td>\n",
       "      <td>22</td>\n",
       "      <td>27576</td>\n",
       "      <td>52.0</td>\n",
       "      <td>24011358</td>\n",
       "      <td>450</td>\n",
       "      <td>NaN</td>\n",
       "      <td>NaN</td>\n",
       "    </tr>\n",
       "    <tr>\n",
       "      <th>3</th>\n",
       "      <td>NaN</td>\n",
       "      <td>1</td>\n",
       "      <td>High Need/Resource Category: New York City Dis...</td>\n",
       "      <td>2023</td>\n",
       "      <td>ELA4</td>\n",
       "      <td>All Students</td>\n",
       "      <td>59370.0</td>\n",
       "      <td>8517.0</td>\n",
       "      <td>14.0</td>\n",
       "      <td>50853</td>\n",
       "      <td>...</td>\n",
       "      <td>14750</td>\n",
       "      <td>29</td>\n",
       "      <td>11997</td>\n",
       "      <td>24</td>\n",
       "      <td>26747</td>\n",
       "      <td>53.0</td>\n",
       "      <td>22905513</td>\n",
       "      <td>450</td>\n",
       "      <td>NaN</td>\n",
       "      <td>NaN</td>\n",
       "    </tr>\n",
       "    <tr>\n",
       "      <th>4</th>\n",
       "      <td>NaN</td>\n",
       "      <td>1</td>\n",
       "      <td>High Need/Resource Category: New York City Dis...</td>\n",
       "      <td>2023</td>\n",
       "      <td>ELA3_8</td>\n",
       "      <td>All Students</td>\n",
       "      <td>364609.0</td>\n",
       "      <td>52408.0</td>\n",
       "      <td>14.0</td>\n",
       "      <td>312201</td>\n",
       "      <td>...</td>\n",
       "      <td>92879</td>\n",
       "      <td>30</td>\n",
       "      <td>68728</td>\n",
       "      <td>22</td>\n",
       "      <td>161607</td>\n",
       "      <td>52.0</td>\n",
       "      <td>NaN</td>\n",
       "      <td>NaN</td>\n",
       "      <td>NaN</td>\n",
       "      <td>NaN</td>\n",
       "    </tr>\n",
       "  </tbody>\n",
       "</table>\n",
       "<p>5 rows × 25 columns</p>\n",
       "</div>"
      ],
      "text/plain": [
       "   INSTITUTION_ID  ENTITY_CD  \\\n",
       "0             NaN          1   \n",
       "1             NaN          1   \n",
       "2             NaN          1   \n",
       "3             NaN          1   \n",
       "4             NaN          1   \n",
       "\n",
       "                                         ENTITY_NAME  YEAR ASSESSMENT_NAME  \\\n",
       "0  High Need/Resource Category: New York City Dis...  2023            ELA6   \n",
       "1  High Need/Resource Category: New York City Dis...  2023            ELA8   \n",
       "2  High Need/Resource Category: New York City Dis...  2023            ELA7   \n",
       "3  High Need/Resource Category: New York City Dis...  2023            ELA4   \n",
       "4  High Need/Resource Category: New York City Dis...  2023          ELA3_8   \n",
       "\n",
       "  SUBGROUP_NAME  TOTAL_COUNT  NOT_TESTED  PCT_NOT_TESTED  NUM_TESTED  ...  \\\n",
       "0  All Students      59583.0      7757.0            13.0       51826  ...   \n",
       "1  All Students      64216.0     10495.0            16.0       53721  ...   \n",
       "2  All Students      61290.0      7945.0            13.0       53345  ...   \n",
       "3  All Students      59370.0      8517.0            14.0       50853  ...   \n",
       "4  All Students     364609.0     52408.0            14.0      312201  ...   \n",
       "\n",
       "   LEVEL3_COUNT LEVEL3_%TESTED LEVEL4_COUNT LEVEL4_%TESTED NUM_PROF PER_PROF  \\\n",
       "0         13675             26        11145             22    24820     48.0   \n",
       "1         17832             33        14404             27    32236     60.0   \n",
       "2         15806             30        11770             22    27576     52.0   \n",
       "3         14750             29        11997             24    26747     53.0   \n",
       "4         92879             30        68728             22   161607     52.0   \n",
       "\n",
       "  TOTAL_SCALE_SCORES MEAN_SCORE LEVEL5_COUNT LEVEL5_%TESTED  \n",
       "0           23158709        447          NaN            NaN  \n",
       "1           24395380        454          NaN            NaN  \n",
       "2           24011358        450          NaN            NaN  \n",
       "3           22905513        450          NaN            NaN  \n",
       "4                NaN        NaN          NaN            NaN  \n",
       "\n",
       "[5 rows x 25 columns]"
      ]
     },
     "execution_count": 18,
     "metadata": {},
     "output_type": "execute_result"
    }
   ],
   "source": [
    "all_subjects.head()"
   ]
  },
  {
   "cell_type": "code",
   "execution_count": 20,
   "id": "b080a1b7-7b61-42aa-902c-2614317250b2",
   "metadata": {},
   "outputs": [],
   "source": [
    "# Filter data for male and female students and ensure PER_PROF is numeric\n",
    "male_data = all_subjects[all_subjects[\"SUBGROUP_NAME\"] == \"Male\"]\n",
    "female_data = all_subjects[all_subjects[\"SUBGROUP_NAME\"] == \"Female\"]"
   ]
  },
  {
   "cell_type": "code",
   "execution_count": 22,
   "id": "8cd9ad7c-ab00-45e1-a5f7-4da23440462b",
   "metadata": {},
   "outputs": [
    {
     "name": "stdout",
     "output_type": "stream",
     "text": [
      "        INSTITUTION_ID     ENTITY_CD  \\\n",
      "77                 NaN             1   \n",
      "78                 NaN             1   \n",
      "79                 NaN             1   \n",
      "80                 NaN             1   \n",
      "81                 NaN             1   \n",
      "...                ...           ...   \n",
      "162086    8.000000e+11  680601060005   \n",
      "162108    8.000000e+11  680801040000   \n",
      "162109    8.000000e+11  680801040000   \n",
      "162137    8.000000e+11  680801040001   \n",
      "162153    8.000000e+11  680801040002   \n",
      "\n",
      "                                              ENTITY_NAME  YEAR  \\\n",
      "77      High Need/Resource Category: New York City Dis...  2023   \n",
      "78      High Need/Resource Category: New York City Dis...  2023   \n",
      "79      High Need/Resource Category: New York City Dis...  2023   \n",
      "80      High Need/Resource Category: New York City Dis...  2023   \n",
      "81      High Need/Resource Category: New York City Dis...  2023   \n",
      "...                                                   ...   ...   \n",
      "162086                         PENN YAN ELEMENTARY SCHOOL  2024   \n",
      "162108                                         DUNDEE CSD  2024   \n",
      "162109                                         DUNDEE CSD  2024   \n",
      "162137                   DUNDEE JUNIOR-SENIOR HIGH SCHOOL  2024   \n",
      "162153                           DUNDEE ELEMENTARY SCHOOL  2024   \n",
      "\n",
      "       ASSESSMENT_NAME SUBGROUP_NAME  TOTAL_COUNT  NOT_TESTED  PCT_NOT_TESTED  \\\n",
      "77                ELA6          Male      30802.0      4498.0            15.0   \n",
      "78                ELA8          Male      33462.0      5725.0            17.0   \n",
      "79                ELA7          Male      31949.0      4465.0            14.0   \n",
      "80                ELA4          Male      30939.0      4942.0            16.0   \n",
      "81                ELA3          Male      30197.0      5268.0            17.0   \n",
      "...                ...           ...          ...         ...             ...   \n",
      "162086        Science5          Male         28.0         1.0             4.0   \n",
      "162108        Science8          Male         25.0         4.0            16.0   \n",
      "162109        Science5          Male         28.0         2.0             7.0   \n",
      "162137        Science8          Male         25.0         4.0            16.0   \n",
      "162153        Science5          Male         27.0         2.0             7.0   \n",
      "\n",
      "        NUM_TESTED  ...  LEVEL3_COUNT LEVEL3_%TESTED LEVEL4_COUNT  \\\n",
      "77           26304  ...          6463             25         4791   \n",
      "78           27737  ...          8652             31         6524   \n",
      "79           27484  ...          7536             27         4894   \n",
      "80           25997  ...          7255             28         5420   \n",
      "81           24929  ...          6893             28         3939   \n",
      "...            ...  ...           ...            ...          ...   \n",
      "162086          27  ...             7             26            0   \n",
      "162108          21  ...             6             29            0   \n",
      "162109          26  ...             1             04            0   \n",
      "162137          21  ...             6             29            0   \n",
      "162153          25  ...             1             04            0   \n",
      "\n",
      "       LEVEL4_%TESTED NUM_PROF PER_PROF TOTAL_SCALE_SCORES MEAN_SCORE  \\\n",
      "77                 18    11254     43.0           11671054        444   \n",
      "78                 24    15176     55.0           12516675        451   \n",
      "79                 18    12430     45.0           12270902        446   \n",
      "80                 21    12675     49.0           11647225        448   \n",
      "81                 16    10832     43.0           11070446        444   \n",
      "...               ...      ...      ...                ...        ...   \n",
      "162086             00        7     26.0              11840        439   \n",
      "162108             00        6     29.0               9325        444   \n",
      "162109             00        1      4.0              10936        421   \n",
      "162137             00        6     29.0               9325        444   \n",
      "162153             00        1      4.0              10503        420   \n",
      "\n",
      "       LEVEL5_COUNT LEVEL5_%TESTED  \n",
      "77              NaN            NaN  \n",
      "78              NaN            NaN  \n",
      "79              NaN            NaN  \n",
      "80              NaN            NaN  \n",
      "81              NaN            NaN  \n",
      "...             ...            ...  \n",
      "162086          NaN            NaN  \n",
      "162108          NaN            NaN  \n",
      "162109          NaN            NaN  \n",
      "162137          NaN            NaN  \n",
      "162153          NaN            NaN  \n",
      "\n",
      "[75353 rows x 25 columns]\n",
      "        INSTITUTION_ID     ENTITY_CD  \\\n",
      "47                 NaN             1   \n",
      "48                 NaN             1   \n",
      "49                 NaN             1   \n",
      "50                 NaN             1   \n",
      "51                 NaN             1   \n",
      "...                ...           ...   \n",
      "162082    8.000000e+11  680601060005   \n",
      "162103    8.000000e+11  680801040000   \n",
      "162104    8.000000e+11  680801040000   \n",
      "162134    8.000000e+11  680801040001   \n",
      "162151    8.000000e+11  680801040002   \n",
      "\n",
      "                                              ENTITY_NAME  YEAR  \\\n",
      "47      High Need/Resource Category: New York City Dis...  2023   \n",
      "48      High Need/Resource Category: New York City Dis...  2023   \n",
      "49      High Need/Resource Category: New York City Dis...  2023   \n",
      "50      High Need/Resource Category: New York City Dis...  2023   \n",
      "51      High Need/Resource Category: New York City Dis...  2023   \n",
      "...                                                   ...   ...   \n",
      "162082                         PENN YAN ELEMENTARY SCHOOL  2024   \n",
      "162103                                         DUNDEE CSD  2024   \n",
      "162104                                         DUNDEE CSD  2024   \n",
      "162134                   DUNDEE JUNIOR-SENIOR HIGH SCHOOL  2024   \n",
      "162151                           DUNDEE ELEMENTARY SCHOOL  2024   \n",
      "\n",
      "       ASSESSMENT_NAME SUBGROUP_NAME  TOTAL_COUNT  NOT_TESTED  PCT_NOT_TESTED  \\\n",
      "47                ELA6        Female      28776.0      3259.0            11.0   \n",
      "48                ELA8        Female      30740.0      4765.0            16.0   \n",
      "49                ELA7        Female      29334.0      3479.0            12.0   \n",
      "50                ELA4        Female      28429.0      3575.0            13.0   \n",
      "51                ELA3        Female      28248.0      3824.0            14.0   \n",
      "...                ...           ...          ...         ...             ...   \n",
      "162082        Science5        Female         39.0         1.0             3.0   \n",
      "162103        Science8        Female         17.0         1.0             6.0   \n",
      "162104        Science5        Female         20.0         1.0             5.0   \n",
      "162134        Science8        Female         17.0         1.0             6.0   \n",
      "162151        Science5        Female         20.0         1.0             5.0   \n",
      "\n",
      "        NUM_TESTED  ...  LEVEL3_COUNT LEVEL3_%TESTED LEVEL4_COUNT  \\\n",
      "47           25517  ...          7210             28         6353   \n",
      "48           25975  ...          9177             35         7875   \n",
      "49           25855  ...          8268             32         6873   \n",
      "50           24854  ...             s              s            s   \n",
      "51           24424  ...          7246             30         5640   \n",
      "...            ...  ...           ...            ...          ...   \n",
      "162082          38  ...            14             37            1   \n",
      "162103          16  ...             5             31            0   \n",
      "162104          19  ...             4             21            0   \n",
      "162134          16  ...             5             31            0   \n",
      "162151          19  ...             4             21            0   \n",
      "\n",
      "       LEVEL4_%TESTED NUM_PROF PER_PROF TOTAL_SCALE_SCORES MEAN_SCORE  \\\n",
      "47                 25    13563     53.0           11485383        450   \n",
      "48                 30    17052     66.0           11874475        457   \n",
      "49                 27    15141     59.0           11737627        454   \n",
      "50                  s        s      NaN                  s          s   \n",
      "51                 23    12886     53.0           10982252        450   \n",
      "...               ...      ...      ...                ...        ...   \n",
      "162082             03       15     39.0              16815        443   \n",
      "162103             00        5     31.0               7023        439   \n",
      "162104             00        4     21.0               8139        428   \n",
      "162134             00        5     31.0               7023        439   \n",
      "162151             00        4     21.0               8139        428   \n",
      "\n",
      "       LEVEL5_COUNT LEVEL5_%TESTED  \n",
      "47              NaN            NaN  \n",
      "48              NaN            NaN  \n",
      "49              NaN            NaN  \n",
      "50              NaN            NaN  \n",
      "51              NaN            NaN  \n",
      "...             ...            ...  \n",
      "162082          NaN            NaN  \n",
      "162103          NaN            NaN  \n",
      "162104          NaN            NaN  \n",
      "162134          NaN            NaN  \n",
      "162151          NaN            NaN  \n",
      "\n",
      "[74595 rows x 25 columns]\n"
     ]
    }
   ],
   "source": [
    "print(male_data)\n",
    "print(female_data)"
   ]
  },
  {
   "cell_type": "code",
   "execution_count": 24,
   "id": "933b52e4-d529-4b68-91e5-da7cbd47340a",
   "metadata": {},
   "outputs": [
    {
     "name": "stderr",
     "output_type": "stream",
     "text": [
      "C:\\Users\\Hp\\AppData\\Local\\Temp\\ipykernel_13924\\1211483314.py:1: SettingWithCopyWarning: \n",
      "A value is trying to be set on a copy of a slice from a DataFrame.\n",
      "Try using .loc[row_indexer,col_indexer] = value instead\n",
      "\n",
      "See the caveats in the documentation: https://pandas.pydata.org/pandas-docs/stable/user_guide/indexing.html#returning-a-view-versus-a-copy\n",
      "  male_data[\"PER_PROF\"] = pd.to_numeric(male_data[\"PER_PROF\"], errors=\"coerce\")\n",
      "C:\\Users\\Hp\\AppData\\Local\\Temp\\ipykernel_13924\\1211483314.py:2: SettingWithCopyWarning: \n",
      "A value is trying to be set on a copy of a slice from a DataFrame.\n",
      "Try using .loc[row_indexer,col_indexer] = value instead\n",
      "\n",
      "See the caveats in the documentation: https://pandas.pydata.org/pandas-docs/stable/user_guide/indexing.html#returning-a-view-versus-a-copy\n",
      "  female_data[\"PER_PROF\"] = pd.to_numeric(female_data[\"PER_PROF\"], errors=\"coerce\")\n"
     ]
    }
   ],
   "source": [
    "male_data[\"PER_PROF\"] = pd.to_numeric(male_data[\"PER_PROF\"], errors=\"coerce\")\n",
    "female_data[\"PER_PROF\"] = pd.to_numeric(female_data[\"PER_PROF\"], errors=\"coerce\")"
   ]
  },
  {
   "cell_type": "code",
   "execution_count": 26,
   "id": "21b6dec7-921c-4205-ae99-6624d8bf50f3",
   "metadata": {},
   "outputs": [],
   "source": [
    "# Calculate mean proficiency rates\n",
    "male_proficiency = male_data[\"PER_PROF\"].mean()\n",
    "female_proficiency = female_data[\"PER_PROF\"].mean()"
   ]
  },
  {
   "cell_type": "code",
   "execution_count": 28,
   "id": "7d01c429-d5a4-4339-9050-8ec8b8c16f41",
   "metadata": {},
   "outputs": [
    {
     "name": "stdout",
     "output_type": "stream",
     "text": [
      "Male Proficiency Rate: 45.72%\n",
      "Female Proficiency Rate: 48.25%\n"
     ]
    }
   ],
   "source": [
    "print(f\"Male Proficiency Rate: {male_proficiency:.2f}%\")\n",
    "print(f\"Female Proficiency Rate: {female_proficiency:.2f}%\")"
   ]
  },
  {
   "cell_type": "code",
   "execution_count": null,
   "id": "91ddeb16-646c-424c-aaf5-ed54dc51b17e",
   "metadata": {},
   "outputs": [],
   "source": []
  },
  {
   "cell_type": "markdown",
   "id": "1838e657-4175-4136-bb7e-ab92aad63fd3",
   "metadata": {},
   "source": [
    "#### Which racial/ethnic group has the highest mean scores in Math?"
   ]
  },
  {
   "cell_type": "code",
   "execution_count": 32,
   "id": "6e98c539-6b01-447c-9a44-9e2d070144af",
   "metadata": {},
   "outputs": [
    {
     "data": {
      "text/html": [
       "<div>\n",
       "<style scoped>\n",
       "    .dataframe tbody tr th:only-of-type {\n",
       "        vertical-align: middle;\n",
       "    }\n",
       "\n",
       "    .dataframe tbody tr th {\n",
       "        vertical-align: top;\n",
       "    }\n",
       "\n",
       "    .dataframe thead th {\n",
       "        text-align: right;\n",
       "    }\n",
       "</style>\n",
       "<table border=\"1\" class=\"dataframe\">\n",
       "  <thead>\n",
       "    <tr style=\"text-align: right;\">\n",
       "      <th></th>\n",
       "      <th>INSTITUTION_ID</th>\n",
       "      <th>ENTITY_CD</th>\n",
       "      <th>ENTITY_NAME</th>\n",
       "      <th>YEAR</th>\n",
       "      <th>ASSESSMENT_NAME</th>\n",
       "      <th>SUBGROUP_NAME</th>\n",
       "      <th>TOTAL_COUNT</th>\n",
       "      <th>NOT_TESTED</th>\n",
       "      <th>PCT_NOT_TESTED</th>\n",
       "      <th>NUM_TESTED</th>\n",
       "      <th>...</th>\n",
       "      <th>LEVEL3_COUNT</th>\n",
       "      <th>LEVEL3_%TESTED</th>\n",
       "      <th>LEVEL4_COUNT</th>\n",
       "      <th>LEVEL4_%TESTED</th>\n",
       "      <th>LEVEL5_COUNT</th>\n",
       "      <th>LEVEL5_%TESTED</th>\n",
       "      <th>NUM_PROF</th>\n",
       "      <th>PER_PROF</th>\n",
       "      <th>TOTAL_SCALE_SCORES</th>\n",
       "      <th>MEAN_SCORE</th>\n",
       "    </tr>\n",
       "  </thead>\n",
       "  <tbody>\n",
       "    <tr>\n",
       "      <th>0</th>\n",
       "      <td>NaN</td>\n",
       "      <td>1</td>\n",
       "      <td>High Need/Resource Category: New York City Dis...</td>\n",
       "      <td>2023</td>\n",
       "      <td>MATH5</td>\n",
       "      <td>All Students</td>\n",
       "      <td>61807.0</td>\n",
       "      <td>6791.0</td>\n",
       "      <td>11.0</td>\n",
       "      <td>55016</td>\n",
       "      <td>...</td>\n",
       "      <td>17055</td>\n",
       "      <td>31</td>\n",
       "      <td>10749</td>\n",
       "      <td>20</td>\n",
       "      <td>NaN</td>\n",
       "      <td>NaN</td>\n",
       "      <td>27804</td>\n",
       "      <td>51.0</td>\n",
       "      <td>24863453</td>\n",
       "      <td>452</td>\n",
       "    </tr>\n",
       "    <tr>\n",
       "      <th>1</th>\n",
       "      <td>NaN</td>\n",
       "      <td>1</td>\n",
       "      <td>High Need/Resource Category: New York City Dis...</td>\n",
       "      <td>2023</td>\n",
       "      <td>MATH3_8</td>\n",
       "      <td>All Students</td>\n",
       "      <td>365267.0</td>\n",
       "      <td>41489.0</td>\n",
       "      <td>11.0</td>\n",
       "      <td>323778</td>\n",
       "      <td>...</td>\n",
       "      <td>99978</td>\n",
       "      <td>31</td>\n",
       "      <td>61339</td>\n",
       "      <td>19</td>\n",
       "      <td>5700</td>\n",
       "      <td>02</td>\n",
       "      <td>167017</td>\n",
       "      <td>52.0</td>\n",
       "      <td>NaN</td>\n",
       "      <td>NaN</td>\n",
       "    </tr>\n",
       "    <tr>\n",
       "      <th>2</th>\n",
       "      <td>NaN</td>\n",
       "      <td>1</td>\n",
       "      <td>High Need/Resource Category: New York City Dis...</td>\n",
       "      <td>2023</td>\n",
       "      <td>Combined6Math</td>\n",
       "      <td>All Students</td>\n",
       "      <td>59693.0</td>\n",
       "      <td>6311.0</td>\n",
       "      <td>11.0</td>\n",
       "      <td>53382</td>\n",
       "      <td>...</td>\n",
       "      <td>15841</td>\n",
       "      <td>30</td>\n",
       "      <td>8484</td>\n",
       "      <td>16</td>\n",
       "      <td>0</td>\n",
       "      <td>00</td>\n",
       "      <td>24325</td>\n",
       "      <td>46.0</td>\n",
       "      <td>NaN</td>\n",
       "      <td>NaN</td>\n",
       "    </tr>\n",
       "    <tr>\n",
       "      <th>3</th>\n",
       "      <td>NaN</td>\n",
       "      <td>1</td>\n",
       "      <td>High Need/Resource Category: New York City Dis...</td>\n",
       "      <td>2023</td>\n",
       "      <td>RegentsMath7</td>\n",
       "      <td>All Students</td>\n",
       "      <td>NaN</td>\n",
       "      <td>NaN</td>\n",
       "      <td>NaN</td>\n",
       "      <td>247</td>\n",
       "      <td>...</td>\n",
       "      <td>85</td>\n",
       "      <td>34</td>\n",
       "      <td>45</td>\n",
       "      <td>18</td>\n",
       "      <td>78</td>\n",
       "      <td>32</td>\n",
       "      <td>208</td>\n",
       "      <td>84.0</td>\n",
       "      <td>NaN</td>\n",
       "      <td>NaN</td>\n",
       "    </tr>\n",
       "    <tr>\n",
       "      <th>4</th>\n",
       "      <td>NaN</td>\n",
       "      <td>1</td>\n",
       "      <td>High Need/Resource Category: New York City Dis...</td>\n",
       "      <td>2023</td>\n",
       "      <td>Combined8Math</td>\n",
       "      <td>All Students</td>\n",
       "      <td>64326.0</td>\n",
       "      <td>8072.0</td>\n",
       "      <td>13.0</td>\n",
       "      <td>56254</td>\n",
       "      <td>...</td>\n",
       "      <td>16396</td>\n",
       "      <td>29</td>\n",
       "      <td>8698</td>\n",
       "      <td>15</td>\n",
       "      <td>5622</td>\n",
       "      <td>10</td>\n",
       "      <td>30716</td>\n",
       "      <td>55.0</td>\n",
       "      <td>NaN</td>\n",
       "      <td>NaN</td>\n",
       "    </tr>\n",
       "  </tbody>\n",
       "</table>\n",
       "<p>5 rows × 25 columns</p>\n",
       "</div>"
      ],
      "text/plain": [
       "   INSTITUTION_ID  ENTITY_CD  \\\n",
       "0             NaN          1   \n",
       "1             NaN          1   \n",
       "2             NaN          1   \n",
       "3             NaN          1   \n",
       "4             NaN          1   \n",
       "\n",
       "                                         ENTITY_NAME  YEAR ASSESSMENT_NAME  \\\n",
       "0  High Need/Resource Category: New York City Dis...  2023           MATH5   \n",
       "1  High Need/Resource Category: New York City Dis...  2023         MATH3_8   \n",
       "2  High Need/Resource Category: New York City Dis...  2023   Combined6Math   \n",
       "3  High Need/Resource Category: New York City Dis...  2023    RegentsMath7   \n",
       "4  High Need/Resource Category: New York City Dis...  2023   Combined8Math   \n",
       "\n",
       "  SUBGROUP_NAME  TOTAL_COUNT  NOT_TESTED  PCT_NOT_TESTED  NUM_TESTED  ...  \\\n",
       "0  All Students      61807.0      6791.0            11.0       55016  ...   \n",
       "1  All Students     365267.0     41489.0            11.0      323778  ...   \n",
       "2  All Students      59693.0      6311.0            11.0       53382  ...   \n",
       "3  All Students          NaN         NaN             NaN         247  ...   \n",
       "4  All Students      64326.0      8072.0            13.0       56254  ...   \n",
       "\n",
       "   LEVEL3_COUNT LEVEL3_%TESTED LEVEL4_COUNT LEVEL4_%TESTED LEVEL5_COUNT  \\\n",
       "0         17055             31        10749             20          NaN   \n",
       "1         99978             31        61339             19         5700   \n",
       "2         15841             30         8484             16            0   \n",
       "3            85             34           45             18           78   \n",
       "4         16396             29         8698             15         5622   \n",
       "\n",
       "  LEVEL5_%TESTED NUM_PROF PER_PROF TOTAL_SCALE_SCORES MEAN_SCORE  \n",
       "0            NaN    27804     51.0           24863453        452  \n",
       "1             02   167017     52.0                NaN        NaN  \n",
       "2             00    24325     46.0                NaN        NaN  \n",
       "3             32      208     84.0                NaN        NaN  \n",
       "4             10    30716     55.0                NaN        NaN  \n",
       "\n",
       "[5 rows x 25 columns]"
      ]
     },
     "execution_count": 32,
     "metadata": {},
     "output_type": "execute_result"
    }
   ],
   "source": [
    "data_math.head()"
   ]
  },
  {
   "cell_type": "code",
   "execution_count": 34,
   "id": "247ca4f5-40c2-4b76-9b73-be0187140ae9",
   "metadata": {},
   "outputs": [],
   "source": [
    "# Filter Math data and ensure MEAN_SCORE is numeric\n",
    "data_math[\"MEAN_SCORE\"] = pd.to_numeric(data_math[\"MEAN_SCORE\"], errors=\"coerce\")"
   ]
  },
  {
   "cell_type": "code",
   "execution_count": 36,
   "id": "23b041ab-3c9d-4851-a1c7-45d7de5e0a5c",
   "metadata": {},
   "outputs": [],
   "source": [
    "# Group by racial/ethnic subgroup and calculate mean scores\n",
    "race_ethnicity_math = data_math.groupby(\"SUBGROUP_NAME\")[\"MEAN_SCORE\"].mean()"
   ]
  },
  {
   "cell_type": "code",
   "execution_count": 38,
   "id": "caaecc3c-5ee1-4ccf-9f7c-85c7619fbb99",
   "metadata": {},
   "outputs": [],
   "source": [
    "# Find the group with the highest mean score\n",
    "top_group = race_ethnicity_math.idxmax()\n",
    "top_score = race_ethnicity_math.max()"
   ]
  },
  {
   "cell_type": "code",
   "execution_count": 40,
   "id": "b53fe903-6a0b-4809-b964-42df69e55188",
   "metadata": {},
   "outputs": [
    {
     "name": "stdout",
     "output_type": "stream",
     "text": [
      "Highest Mean Score in Math: Asian or Native Hawaiian/Other Pacific Islander with 466.93\n"
     ]
    }
   ],
   "source": [
    "print(f\"Highest Mean Score in Math: {top_group} with {top_score:.2f}\")"
   ]
  },
  {
   "cell_type": "code",
   "execution_count": null,
   "id": "9f940c15-1276-48bc-9314-0451f004f3d9",
   "metadata": {},
   "outputs": [],
   "source": []
  },
  {
   "cell_type": "markdown",
   "id": "198d4f6b-72a1-4dcc-94ba-e9ee2e0a5420",
   "metadata": {},
   "source": [
    "#### Are there significant differences in proficiency rates for students with disabilities versus general education students?\n"
   ]
  },
  {
   "cell_type": "code",
   "execution_count": 44,
   "id": "dced62d2-cf86-44d6-8991-fd69a6aa2333",
   "metadata": {},
   "outputs": [
    {
     "data": {
      "text/plain": [
       "0                                All Students\n",
       "1                                All Students\n",
       "2                                All Students\n",
       "3                                All Students\n",
       "4                                All Students\n",
       "                         ...                 \n",
       "162159                            Not Migrant\n",
       "162160             Parent Not in Armed Forces\n",
       "162161    Small Group Total: Race & Ethnicity\n",
       "162162             Students with Disabilities\n",
       "162163                                  White\n",
       "Name: SUBGROUP_NAME, Length: 1480396, dtype: object"
      ]
     },
     "execution_count": 44,
     "metadata": {},
     "output_type": "execute_result"
    }
   ],
   "source": [
    "all_subjects['SUBGROUP_NAME']"
   ]
  },
  {
   "cell_type": "code",
   "execution_count": 46,
   "id": "c70b0e1f-f622-45c7-b576-672c9206fd23",
   "metadata": {},
   "outputs": [],
   "source": [
    "# Filter data for students with disabilities and general education students\n",
    "disabilities_data = all_subjects[all_subjects[\"SUBGROUP_NAME\"] == \"Students with Disabilities\"]\n",
    "general_ed_data = all_subjects[all_subjects[\"SUBGROUP_NAME\"] == \"General Education Students\"]"
   ]
  },
  {
   "cell_type": "code",
   "execution_count": 48,
   "id": "9235636e-e155-4488-8d2a-b2ed97319454",
   "metadata": {},
   "outputs": [
    {
     "name": "stderr",
     "output_type": "stream",
     "text": [
      "C:\\Users\\Hp\\AppData\\Local\\Temp\\ipykernel_13924\\3751204605.py:1: SettingWithCopyWarning: \n",
      "A value is trying to be set on a copy of a slice from a DataFrame.\n",
      "Try using .loc[row_indexer,col_indexer] = value instead\n",
      "\n",
      "See the caveats in the documentation: https://pandas.pydata.org/pandas-docs/stable/user_guide/indexing.html#returning-a-view-versus-a-copy\n",
      "  disabilities_data[\"PER_PROF\"] = pd.to_numeric(disabilities_data[\"PER_PROF\"], errors=\"coerce\")\n",
      "C:\\Users\\Hp\\AppData\\Local\\Temp\\ipykernel_13924\\3751204605.py:2: SettingWithCopyWarning: \n",
      "A value is trying to be set on a copy of a slice from a DataFrame.\n",
      "Try using .loc[row_indexer,col_indexer] = value instead\n",
      "\n",
      "See the caveats in the documentation: https://pandas.pydata.org/pandas-docs/stable/user_guide/indexing.html#returning-a-view-versus-a-copy\n",
      "  general_ed_data[\"PER_PROF\"] = pd.to_numeric(general_ed_data[\"PER_PROF\"], errors=\"coerce\")\n"
     ]
    }
   ],
   "source": [
    "disabilities_data[\"PER_PROF\"] = pd.to_numeric(disabilities_data[\"PER_PROF\"], errors=\"coerce\")\n",
    "general_ed_data[\"PER_PROF\"] = pd.to_numeric(general_ed_data[\"PER_PROF\"], errors=\"coerce\")"
   ]
  },
  {
   "cell_type": "code",
   "execution_count": 50,
   "id": "51cb40d0-2acd-4073-b215-11f621f136b4",
   "metadata": {},
   "outputs": [],
   "source": [
    "# Calculate mean proficiency rates\n",
    "disabilities_proficiency = disabilities_data[\"PER_PROF\"].mean()\n",
    "general_ed_proficiency = general_ed_data[\"PER_PROF\"].mean()"
   ]
  },
  {
   "cell_type": "code",
   "execution_count": 52,
   "id": "54dedfb9-e844-4b45-9fff-6088a2944960",
   "metadata": {},
   "outputs": [],
   "source": [
    "difference = abs(disabilities_proficiency - general_ed_proficiency)"
   ]
  },
  {
   "cell_type": "code",
   "execution_count": 54,
   "id": "ad6fdf5b-1a93-441b-bc45-6f80a57bc3f0",
   "metadata": {},
   "outputs": [
    {
     "name": "stdout",
     "output_type": "stream",
     "text": [
      "Students with Disabilities Proficiency Rate: 18.78%\n",
      "General Education Students Proficiency Rate: 52.03%\n",
      "Difference: 33.24%\n"
     ]
    }
   ],
   "source": [
    "print(f\"Students with Disabilities Proficiency Rate: {disabilities_proficiency:.2f}%\")\n",
    "print(f\"General Education Students Proficiency Rate: {general_ed_proficiency:.2f}%\")\n",
    "print(f\"Difference: {difference:.2f}%\")"
   ]
  },
  {
   "cell_type": "code",
   "execution_count": null,
   "id": "c6e17c29-98e4-4383-97c6-db6cb55c631d",
   "metadata": {},
   "outputs": [],
   "source": []
  },
  {
   "cell_type": "markdown",
   "id": "3cc8a7f3-3067-4fdc-9eb9-f1be8bce429b",
   "metadata": {},
   "source": [
    "#### What percentage of economically disadvantaged students scored proficient in Science?"
   ]
  },
  {
   "cell_type": "code",
   "execution_count": 58,
   "id": "2434079a-ba46-4481-86cd-04a02542a14c",
   "metadata": {},
   "outputs": [],
   "source": [
    "# Filter Science data for economically disadvantaged students\n",
    "econ_disadv_science = data_science[data_science[\"SUBGROUP_NAME\"] == \"Economically Disadvantaged\"]"
   ]
  },
  {
   "cell_type": "code",
   "execution_count": 60,
   "id": "ca934abb-ccbf-4cbd-9d50-a82e826ce4ca",
   "metadata": {},
   "outputs": [
    {
     "name": "stderr",
     "output_type": "stream",
     "text": [
      "C:\\Users\\Hp\\AppData\\Local\\Temp\\ipykernel_13924\\4091465378.py:1: SettingWithCopyWarning: \n",
      "A value is trying to be set on a copy of a slice from a DataFrame.\n",
      "Try using .loc[row_indexer,col_indexer] = value instead\n",
      "\n",
      "See the caveats in the documentation: https://pandas.pydata.org/pandas-docs/stable/user_guide/indexing.html#returning-a-view-versus-a-copy\n",
      "  econ_disadv_science[\"PER_PROF\"] = pd.to_numeric(econ_disadv_science[\"PER_PROF\"], errors=\"coerce\")\n"
     ]
    }
   ],
   "source": [
    "econ_disadv_science[\"PER_PROF\"] = pd.to_numeric(econ_disadv_science[\"PER_PROF\"], errors=\"coerce\")"
   ]
  },
  {
   "cell_type": "code",
   "execution_count": 62,
   "id": "05a45e6e-e6ec-4a79-a5fe-cd338f6dbf3d",
   "metadata": {},
   "outputs": [],
   "source": [
    "# Calculate mean proficiency rate\n",
    "econ_disadv_science_proficiency = econ_disadv_science[\"PER_PROF\"].mean()"
   ]
  },
  {
   "cell_type": "code",
   "execution_count": 64,
   "id": "28af52ee-4c24-4558-8801-b863e0ffae75",
   "metadata": {},
   "outputs": [
    {
     "name": "stdout",
     "output_type": "stream",
     "text": [
      "Economically Disadvantaged Students Proficiency Rate in Science: 33.16%\n"
     ]
    }
   ],
   "source": [
    "print(f\"Economically Disadvantaged Students Proficiency Rate in Science: {econ_disadv_science_proficiency:.2f}%\")"
   ]
  },
  {
   "cell_type": "code",
   "execution_count": null,
   "id": "b16dfc01-1ae2-4862-ae7e-19a3189b062a",
   "metadata": {},
   "outputs": [],
   "source": []
  },
  {
   "cell_type": "markdown",
   "id": "899c5110-f446-4383-aa6e-1a8f2f7aeddd",
   "metadata": {},
   "source": [
    "#### How do proficiency rates for migrant students compare to non-migrant students?"
   ]
  },
  {
   "cell_type": "code",
   "execution_count": 68,
   "id": "67d4f651-0b4e-4e79-9b07-afbc652a108d",
   "metadata": {},
   "outputs": [],
   "source": [
    "# Filter data for migrant and non-migrant students\n",
    "migrant_data = all_subjects[all_subjects[\"SUBGROUP_NAME\"] == \"Migrant\"]\n",
    "non_migrant_data = all_subjects[all_subjects[\"SUBGROUP_NAME\"] == \"Not Migrant\"]"
   ]
  },
  {
   "cell_type": "code",
   "execution_count": 70,
   "id": "92bdeb55-544b-44ac-880c-52f5ae5921e9",
   "metadata": {},
   "outputs": [
    {
     "name": "stderr",
     "output_type": "stream",
     "text": [
      "C:\\Users\\Hp\\AppData\\Local\\Temp\\ipykernel_13924\\328532125.py:1: SettingWithCopyWarning: \n",
      "A value is trying to be set on a copy of a slice from a DataFrame.\n",
      "Try using .loc[row_indexer,col_indexer] = value instead\n",
      "\n",
      "See the caveats in the documentation: https://pandas.pydata.org/pandas-docs/stable/user_guide/indexing.html#returning-a-view-versus-a-copy\n",
      "  migrant_data[\"PER_PROF\"] = pd.to_numeric(migrant_data[\"PER_PROF\"], errors=\"coerce\")\n",
      "C:\\Users\\Hp\\AppData\\Local\\Temp\\ipykernel_13924\\328532125.py:2: SettingWithCopyWarning: \n",
      "A value is trying to be set on a copy of a slice from a DataFrame.\n",
      "Try using .loc[row_indexer,col_indexer] = value instead\n",
      "\n",
      "See the caveats in the documentation: https://pandas.pydata.org/pandas-docs/stable/user_guide/indexing.html#returning-a-view-versus-a-copy\n",
      "  non_migrant_data[\"PER_PROF\"] = pd.to_numeric(non_migrant_data[\"PER_PROF\"], errors=\"coerce\")\n"
     ]
    }
   ],
   "source": [
    "migrant_data[\"PER_PROF\"] = pd.to_numeric(migrant_data[\"PER_PROF\"], errors=\"coerce\")\n",
    "non_migrant_data[\"PER_PROF\"] = pd.to_numeric(non_migrant_data[\"PER_PROF\"], errors=\"coerce\")"
   ]
  },
  {
   "cell_type": "code",
   "execution_count": 72,
   "id": "e609ff35-f229-4c42-8b9c-c0e54f7f5e28",
   "metadata": {},
   "outputs": [],
   "source": [
    "# Calculate mean proficiency rates\n",
    "migrant_proficiency = migrant_data[\"PER_PROF\"].mean()\n",
    "non_migrant_proficiency = non_migrant_data[\"PER_PROF\"].mean()"
   ]
  },
  {
   "cell_type": "code",
   "execution_count": 74,
   "id": "aa11dc0f-c541-403b-b60e-bba583343e0b",
   "metadata": {},
   "outputs": [
    {
     "name": "stdout",
     "output_type": "stream",
     "text": [
      "Migrant Students Proficiency Rate: 15.30%\n",
      "Non-Migrant Students Proficiency Rate: 47.32%\n"
     ]
    }
   ],
   "source": [
    "print(f\"Migrant Students Proficiency Rate: {migrant_proficiency:.2f}%\")\n",
    "print(f\"Non-Migrant Students Proficiency Rate: {non_migrant_proficiency:.2f}%\")"
   ]
  },
  {
   "cell_type": "code",
   "execution_count": null,
   "id": "8d635cc3-6d3a-4840-99ee-f3ca93fc4573",
   "metadata": {},
   "outputs": [],
   "source": []
  },
  {
   "cell_type": "markdown",
   "id": "cb089d1a-ddf5-4e51-8aee-0258a6d2f3e5",
   "metadata": {},
   "source": []
  }
 ],
 "metadata": {
  "kernelspec": {
   "display_name": "Python 3 (ipykernel)",
   "language": "python",
   "name": "python3"
  },
  "language_info": {
   "codemirror_mode": {
    "name": "ipython",
    "version": 3
   },
   "file_extension": ".py",
   "mimetype": "text/x-python",
   "name": "python",
   "nbconvert_exporter": "python",
   "pygments_lexer": "ipython3",
   "version": "3.12.7"
  }
 },
 "nbformat": 4,
 "nbformat_minor": 5
}
