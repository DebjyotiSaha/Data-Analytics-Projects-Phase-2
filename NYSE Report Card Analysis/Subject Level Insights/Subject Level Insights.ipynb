{
 "cells": [
  {
   "cell_type": "markdown",
   "id": "197c00e8-6d92-493d-8de5-78cc745dbe1e",
   "metadata": {},
   "source": [
    "### Subject-Level Insights\n",
    "1. Which subject shows the highest proficiency rates for elementary/middle school students?\n",
    "2. Are there subjects where a significant percentage of students consistently score at Level 1?\n",
    "3. How do proficiency rates in Science compare to Math and ELA in middle school?\n",
    "4. What are the top- and bottom-performing subjects in the Regents Exams?\n",
    "5. Is there a significant difference in performance between Math Regents and ELA Regents?"
   ]
  },
  {
   "cell_type": "code",
   "execution_count": null,
   "id": "cd4b419d-419b-4f4b-b0bb-ca6f607ecea2",
   "metadata": {},
   "outputs": [],
   "source": []
  },
  {
   "cell_type": "markdown",
   "id": "d1980ccc-85dd-459f-9c9a-c680b2b9404d",
   "metadata": {},
   "source": [
    "#### Which subject shows the highest proficiency rates for elementary/middle school students?"
   ]
  },
  {
   "cell_type": "code",
   "execution_count": 2,
   "id": "cc835f3d-8b40-4687-87ed-a97d4ed56155",
   "metadata": {},
   "outputs": [],
   "source": [
    "import pandas as pd"
   ]
  },
  {
   "cell_type": "code",
   "execution_count": 4,
   "id": "645526a7-ea11-4c3b-b3a3-9a2a1bcd108f",
   "metadata": {},
   "outputs": [],
   "source": [
    "# Load datasets\n",
    "data_ela = pd.read_excel(r'E:\\Data Analytics\\NYSE Report Card\\Annual_EM_ELA.xlsx')"
   ]
  },
  {
   "cell_type": "code",
   "execution_count": 6,
   "id": "058a1d5d-9f39-4f12-a643-0b4dd48d7394",
   "metadata": {},
   "outputs": [],
   "source": [
    "data_math = pd.read_excel(r'E:\\Data Analytics\\NYSE Report Card\\Annual_EM_MATH.xlsx')"
   ]
  },
  {
   "cell_type": "code",
   "execution_count": 9,
   "id": "f9b02ec6-0f4f-431d-97df-4ead591dd3a9",
   "metadata": {},
   "outputs": [],
   "source": [
    "data_science = pd.read_excel(r'E:\\Data Analytics\\NYSE Report Card\\Annual_EM_SCIENCE.xlsx')"
   ]
  },
  {
   "cell_type": "code",
   "execution_count": 12,
   "id": "7d13c629-bffa-4d6a-a7ad-f49aa2b44409",
   "metadata": {},
   "outputs": [],
   "source": [
    "# Ensure PER_PROF is numeric\n",
    "data_ela['PER_PROF'] = pd.to_numeric(data_ela['PER_PROF'], errors='coerce')\n",
    "data_math['PER_PROF'] = pd.to_numeric(data_math['PER_PROF'], errors='coerce')\n",
    "data_science['PER_PROF'] = pd.to_numeric(data_science['PER_PROF'], errors='coerce')"
   ]
  },
  {
   "cell_type": "code",
   "execution_count": 14,
   "id": "11970d69-417c-47f2-b96c-b6b4696fb7b1",
   "metadata": {},
   "outputs": [],
   "source": [
    "# Calculate mean and proficiency rates by subject\n",
    "ela_proficiency = data_ela['PER_PROF'].mean()\n",
    "math_proficiency = data_math['PER_PROF'].mean()\n",
    "science_proficiency = data_science['PER_PROF'].mean()"
   ]
  },
  {
   "cell_type": "code",
   "execution_count": 16,
   "id": "41bd9c75-585d-4b1d-8e28-fb9c59c8391d",
   "metadata": {},
   "outputs": [],
   "source": [
    "# Determine the subjects with high proficiency rate\n",
    "subjects = [\"ELA\", \"Math\", \"Science\"]\n",
    "proficiencies = [ela_proficiency, math_proficiency, science_proficiency]"
   ]
  },
  {
   "cell_type": "code",
   "execution_count": 18,
   "id": "e98b07ae-9f37-4559-a7cb-4e11882afe76",
   "metadata": {},
   "outputs": [],
   "source": [
    "highest_subject = subjects[proficiencies.index(max(proficiencies))]\n",
    "highest_rate = max(proficiencies)"
   ]
  },
  {
   "cell_type": "code",
   "execution_count": 20,
   "id": "d92187e2-6604-4364-babf-1d596fd24a54",
   "metadata": {},
   "outputs": [
    {
     "name": "stdout",
     "output_type": "stream",
     "text": [
      "The subject with highest proficiency rate is Math with a rate of 48.31%.\n"
     ]
    }
   ],
   "source": [
    "print(f\"The subject with highest proficiency rate is {highest_subject} with a rate of {highest_rate:.2f}%.\")"
   ]
  },
  {
   "cell_type": "code",
   "execution_count": null,
   "id": "b3034b30-0f72-49f7-bf33-c7ce054e5ac7",
   "metadata": {},
   "outputs": [],
   "source": []
  },
  {
   "cell_type": "markdown",
   "id": "7b3e34d4-013d-481b-aff0-dc47e1ecaacc",
   "metadata": {},
   "source": [
    "#### Are there subjects where a significant percentage of students consistently score at Level 1?"
   ]
  },
  {
   "cell_type": "code",
   "execution_count": 24,
   "id": "e56a4103-68de-4234-adb9-de3e6daad3e5",
   "metadata": {},
   "outputs": [],
   "source": [
    "# Combine all subjects and ensure LEVEL1_%TESTED is numeric\n",
    "data_ela['LEVEL1_%TESTED'] = pd.to_numeric(data_ela['LEVEL1_%TESTED'], errors='coerce')\n",
    "data_math['LEVEL1_%TESTED'] = pd.to_numeric(data_math['LEVEL1_%TESTED'], errors='coerce')\n",
    "data_science['LEVEL1_%TESTED'] = pd.to_numeric(data_science['LEVEL1_%TESTED'], errors='coerce')"
   ]
  },
  {
   "cell_type": "code",
   "execution_count": 26,
   "id": "207f3e9f-4820-4216-849c-cab29cb98815",
   "metadata": {},
   "outputs": [],
   "source": [
    "# Calculate mean percentage of students scoring at level 1\n",
    "ela_level1 = data_ela['LEVEL1_%TESTED'].mean()\n",
    "math_level1 = data_math['LEVEL1_%TESTED'].mean()\n",
    "science_level1 = data_science['LEVEL1_%TESTED'].mean()"
   ]
  },
  {
   "cell_type": "code",
   "execution_count": 28,
   "id": "93c4507b-8cb4-42ef-b4fa-3e9061c0740d",
   "metadata": {},
   "outputs": [],
   "source": [
    "# Find subjects with high percentages at level 1\n",
    "level1_data = {'ELA': ela_level1, \"Math\": math_level1, \"Science\": science_level1}\n",
    "significant_level1 = {subject: pct for subject, pct in level1_data.items() if pct > 30}"
   ]
  },
  {
   "cell_type": "code",
   "execution_count": 30,
   "id": "4f2e8448-900d-4d76-9173-f2452edf7b05",
   "metadata": {},
   "outputs": [
    {
     "name": "stdout",
     "output_type": "stream",
     "text": [
      "Subjects with significant Level 1 Scores:\n",
      "{}\n"
     ]
    }
   ],
   "source": [
    "print(\"Subjects with significant Level 1 Scores:\")\n",
    "print(significant_level1)"
   ]
  },
  {
   "cell_type": "code",
   "execution_count": null,
   "id": "a11551c5-5ef4-4466-a961-e467359536f0",
   "metadata": {},
   "outputs": [],
   "source": []
  },
  {
   "cell_type": "markdown",
   "id": "ca19bf17-04fe-4ae3-809d-b80cb1e72e33",
   "metadata": {},
   "source": [
    "#### How do proficiency rates in Science compare to Math and ELA in middle school?"
   ]
  },
  {
   "cell_type": "code",
   "execution_count": 34,
   "id": "d123e530-26c4-463b-adfb-55de464b0a28",
   "metadata": {},
   "outputs": [],
   "source": [
    "# Ensure PER_PROF is numeric and filter for middle school data\n",
    "data_ela_middle = data_ela[data_ela[\"ASSESSMENT_NAME\"].str.contains(\"ELA3|ELA4|ELA5|ELA6|ELA7|ELA8\", na=False)]\n",
    "data_math_middle = data_math[data_math[\"ASSESSMENT_NAME\"].str.contains(\"Math3|Math4|Math5|Math6|Math7|Math8\", na=False)]\n",
    "data_science_middle = data_science[data_science[\"ASSESSMENT_NAME\"].str.contains(\"Science5|Science8\", na=False)]"
   ]
  },
  {
   "cell_type": "code",
   "execution_count": 36,
   "id": "2825988c-1219-4ac2-8bbb-03ac4e1f6426",
   "metadata": {},
   "outputs": [],
   "source": [
    "# Calculate mean proficiency rates\n",
    "ela_middle_proficiency = data_ela_middle[\"PER_PROF\"].mean()\n",
    "math_middle_proficiency = data_math_middle[\"PER_PROF\"].mean()\n",
    "science_middle_proficiency = data_science_middle[\"PER_PROF\"].mean()"
   ]
  },
  {
   "cell_type": "code",
   "execution_count": 38,
   "id": "9bcd2836-dd7f-4246-a742-ccc829a2316c",
   "metadata": {},
   "outputs": [
    {
     "name": "stdout",
     "output_type": "stream",
     "text": [
      "Middle School Proficiency Rates:\n",
      "ELA: 43.36%\n",
      "Math: 90.08%\n",
      "Science: 38.71%\n"
     ]
    }
   ],
   "source": [
    "print(f\"Middle School Proficiency Rates:\")\n",
    "print(f\"ELA: {ela_middle_proficiency:.2f}%\")\n",
    "print(f\"Math: {math_middle_proficiency:.2f}%\")\n",
    "print(f\"Science: {science_middle_proficiency:.2f}%\")"
   ]
  },
  {
   "cell_type": "code",
   "execution_count": null,
   "id": "2d43f2f7-340d-44da-930f-828842c9a3e1",
   "metadata": {},
   "outputs": [],
   "source": []
  },
  {
   "cell_type": "markdown",
   "id": "8edb7c82-a063-4af8-93dd-b139c9f9692a",
   "metadata": {},
   "source": [
    "#### What are the top- and bottom-performing subjects in the Regents Exams?"
   ]
  },
  {
   "cell_type": "code",
   "execution_count": 41,
   "id": "f5c5c2c6-a2a0-46b4-87cf-76e599987d4f",
   "metadata": {},
   "outputs": [],
   "source": [
    "# Load Regents data\n",
    "data_regents = pd.read_excel(r'E:\\Data Analytics\\NYSE Report Card\\Annual_Regents_Exams.xlsx')"
   ]
  },
  {
   "cell_type": "code",
   "execution_count": 44,
   "id": "cbce2297-0b75-4645-ae72-9cd1f7fa962c",
   "metadata": {},
   "outputs": [],
   "source": [
    "data_regents[\"PER_PROF\"] = pd.to_numeric(data_regents[\"PER_PROF\"], errors=\"coerce\")"
   ]
  },
  {
   "cell_type": "code",
   "execution_count": 46,
   "id": "8e26c8fb-16a1-425d-bcb4-a2706e5463fb",
   "metadata": {},
   "outputs": [],
   "source": [
    "# Calculate mean proficiency rates by subject\n",
    "regents_proficiency = data_regents.groupby(\"SUBJECT\")[\"PER_PROF\"].mean()"
   ]
  },
  {
   "cell_type": "code",
   "execution_count": 48,
   "id": "513e7604-ed49-4ed3-9239-71582e3bb7ed",
   "metadata": {},
   "outputs": [],
   "source": [
    "# Find top and bottom performing subjects\n",
    "top_subject = regents_proficiency.idxmax()\n",
    "top_rate = regents_proficiency.max()"
   ]
  },
  {
   "cell_type": "code",
   "execution_count": 50,
   "id": "7daecb2b-a23f-47bf-9f2d-36c2a85adc7d",
   "metadata": {},
   "outputs": [],
   "source": [
    "bottom_subject = regents_proficiency.idxmin()\n",
    "bottom_rate = regents_proficiency.min()"
   ]
  },
  {
   "cell_type": "code",
   "execution_count": 52,
   "id": "8d24aeb9-69be-45dc-ad52-3e3208426f5c",
   "metadata": {},
   "outputs": [
    {
     "name": "stdout",
     "output_type": "stream",
     "text": [
      "Top Performing Subject: Regents Common Core English Language Art with 76.44%\n",
      "Bottom Performing Subject: Regents Common Core Geometry with 56.09%\n"
     ]
    }
   ],
   "source": [
    "print(f\"Top Performing Subject: {top_subject} with {top_rate:.2f}%\")\n",
    "print(f\"Bottom Performing Subject: {bottom_subject} with {bottom_rate:.2f}%\")"
   ]
  },
  {
   "cell_type": "code",
   "execution_count": null,
   "id": "eb2d343e-afe4-4fe8-8aa1-bf26cf574b11",
   "metadata": {},
   "outputs": [],
   "source": []
  },
  {
   "cell_type": "markdown",
   "id": "0d8168df-006b-4025-96d7-6f168fe0ae59",
   "metadata": {},
   "source": [
    "#### Is there a significant difference in performance between Math Regents and ELA Regents?"
   ]
  },
  {
   "cell_type": "code",
   "execution_count": 56,
   "id": "11389aa1-4787-4339-b311-cb6efe83ded3",
   "metadata": {},
   "outputs": [
    {
     "data": {
      "text/html": [
       "<div>\n",
       "<style scoped>\n",
       "    .dataframe tbody tr th:only-of-type {\n",
       "        vertical-align: middle;\n",
       "    }\n",
       "\n",
       "    .dataframe tbody tr th {\n",
       "        vertical-align: top;\n",
       "    }\n",
       "\n",
       "    .dataframe thead th {\n",
       "        text-align: right;\n",
       "    }\n",
       "</style>\n",
       "<table border=\"1\" class=\"dataframe\">\n",
       "  <thead>\n",
       "    <tr style=\"text-align: right;\">\n",
       "      <th></th>\n",
       "      <th>INSTITUTION_ID</th>\n",
       "      <th>ENTITY_CD</th>\n",
       "      <th>ENTITY_NAME</th>\n",
       "      <th>YEAR</th>\n",
       "      <th>SUBJECT</th>\n",
       "      <th>SUBGROUP_NAME</th>\n",
       "      <th>TESTED</th>\n",
       "      <th>NUM_LEVEL1</th>\n",
       "      <th>PER_LEVEL1</th>\n",
       "      <th>NUM_LEVEL2</th>\n",
       "      <th>PER_LEVEL2</th>\n",
       "      <th>NUM_LEVEL3</th>\n",
       "      <th>PER_LEVEL3</th>\n",
       "      <th>NUM_LEVEL4</th>\n",
       "      <th>PER_LEVEL4</th>\n",
       "      <th>NUM_LEVEL5</th>\n",
       "      <th>PER_LEVEL5</th>\n",
       "      <th>NUM_PROF</th>\n",
       "      <th>PER_PROF</th>\n",
       "    </tr>\n",
       "  </thead>\n",
       "  <tbody>\n",
       "    <tr>\n",
       "      <th>0</th>\n",
       "      <td>NaN</td>\n",
       "      <td>1</td>\n",
       "      <td>High Need/Resource Category: New York City Dis...</td>\n",
       "      <td>2023</td>\n",
       "      <td>Regents US History&amp;Gov't (Framework)</td>\n",
       "      <td>All Students</td>\n",
       "      <td>57050</td>\n",
       "      <td>7571</td>\n",
       "      <td>13</td>\n",
       "      <td>8982</td>\n",
       "      <td>16</td>\n",
       "      <td>17478</td>\n",
       "      <td>31</td>\n",
       "      <td>15720</td>\n",
       "      <td>28</td>\n",
       "      <td>7299</td>\n",
       "      <td>13</td>\n",
       "      <td>40497</td>\n",
       "      <td>71.0</td>\n",
       "    </tr>\n",
       "    <tr>\n",
       "      <th>1</th>\n",
       "      <td>NaN</td>\n",
       "      <td>1</td>\n",
       "      <td>High Need/Resource Category: New York City Dis...</td>\n",
       "      <td>2023</td>\n",
       "      <td>Regents NF Global History</td>\n",
       "      <td>All Students</td>\n",
       "      <td>67848</td>\n",
       "      <td>11613</td>\n",
       "      <td>17</td>\n",
       "      <td>11037</td>\n",
       "      <td>16</td>\n",
       "      <td>23687</td>\n",
       "      <td>35</td>\n",
       "      <td>9180</td>\n",
       "      <td>14</td>\n",
       "      <td>12331</td>\n",
       "      <td>18</td>\n",
       "      <td>45198</td>\n",
       "      <td>67.0</td>\n",
       "    </tr>\n",
       "    <tr>\n",
       "      <th>2</th>\n",
       "      <td>NaN</td>\n",
       "      <td>1</td>\n",
       "      <td>High Need/Resource Category: New York City Dis...</td>\n",
       "      <td>2023</td>\n",
       "      <td>Regents Common Core Algebra II</td>\n",
       "      <td>All Students</td>\n",
       "      <td>40168</td>\n",
       "      <td>16005</td>\n",
       "      <td>40</td>\n",
       "      <td>5620</td>\n",
       "      <td>14</td>\n",
       "      <td>8932</td>\n",
       "      <td>22</td>\n",
       "      <td>4689</td>\n",
       "      <td>12</td>\n",
       "      <td>4922</td>\n",
       "      <td>12</td>\n",
       "      <td>18543</td>\n",
       "      <td>46.0</td>\n",
       "    </tr>\n",
       "    <tr>\n",
       "      <th>3</th>\n",
       "      <td>NaN</td>\n",
       "      <td>1</td>\n",
       "      <td>High Need/Resource Category: New York City Dis...</td>\n",
       "      <td>2023</td>\n",
       "      <td>Regents Common Core Geometry</td>\n",
       "      <td>All Students</td>\n",
       "      <td>50999</td>\n",
       "      <td>22131</td>\n",
       "      <td>43</td>\n",
       "      <td>8360</td>\n",
       "      <td>16</td>\n",
       "      <td>11561</td>\n",
       "      <td>23</td>\n",
       "      <td>3065</td>\n",
       "      <td>06</td>\n",
       "      <td>5882</td>\n",
       "      <td>12</td>\n",
       "      <td>20508</td>\n",
       "      <td>40.0</td>\n",
       "    </tr>\n",
       "    <tr>\n",
       "      <th>4</th>\n",
       "      <td>NaN</td>\n",
       "      <td>1</td>\n",
       "      <td>High Need/Resource Category: New York City Dis...</td>\n",
       "      <td>2023</td>\n",
       "      <td>Regents Common Core Algebra I</td>\n",
       "      <td>All Students</td>\n",
       "      <td>97407</td>\n",
       "      <td>24388</td>\n",
       "      <td>25</td>\n",
       "      <td>18712</td>\n",
       "      <td>19</td>\n",
       "      <td>33709</td>\n",
       "      <td>35</td>\n",
       "      <td>10256</td>\n",
       "      <td>11</td>\n",
       "      <td>10342</td>\n",
       "      <td>11</td>\n",
       "      <td>54307</td>\n",
       "      <td>56.0</td>\n",
       "    </tr>\n",
       "  </tbody>\n",
       "</table>\n",
       "</div>"
      ],
      "text/plain": [
       "   INSTITUTION_ID  ENTITY_CD  \\\n",
       "0             NaN          1   \n",
       "1             NaN          1   \n",
       "2             NaN          1   \n",
       "3             NaN          1   \n",
       "4             NaN          1   \n",
       "\n",
       "                                         ENTITY_NAME  YEAR  \\\n",
       "0  High Need/Resource Category: New York City Dis...  2023   \n",
       "1  High Need/Resource Category: New York City Dis...  2023   \n",
       "2  High Need/Resource Category: New York City Dis...  2023   \n",
       "3  High Need/Resource Category: New York City Dis...  2023   \n",
       "4  High Need/Resource Category: New York City Dis...  2023   \n",
       "\n",
       "                                SUBJECT SUBGROUP_NAME  TESTED NUM_LEVEL1  \\\n",
       "0  Regents US History&Gov't (Framework)  All Students   57050       7571   \n",
       "1             Regents NF Global History  All Students   67848      11613   \n",
       "2        Regents Common Core Algebra II  All Students   40168      16005   \n",
       "3          Regents Common Core Geometry  All Students   50999      22131   \n",
       "4         Regents Common Core Algebra I  All Students   97407      24388   \n",
       "\n",
       "  PER_LEVEL1 NUM_LEVEL2 PER_LEVEL2 NUM_LEVEL3 PER_LEVEL3 NUM_LEVEL4  \\\n",
       "0         13       8982         16      17478         31      15720   \n",
       "1         17      11037         16      23687         35       9180   \n",
       "2         40       5620         14       8932         22       4689   \n",
       "3         43       8360         16      11561         23       3065   \n",
       "4         25      18712         19      33709         35      10256   \n",
       "\n",
       "  PER_LEVEL4 NUM_LEVEL5 PER_LEVEL5 NUM_PROF  PER_PROF  \n",
       "0         28       7299         13    40497      71.0  \n",
       "1         14      12331         18    45198      67.0  \n",
       "2         12       4922         12    18543      46.0  \n",
       "3         06       5882         12    20508      40.0  \n",
       "4         11      10342         11    54307      56.0  "
      ]
     },
     "execution_count": 56,
     "metadata": {},
     "output_type": "execute_result"
    }
   ],
   "source": [
    "data_regents.head()"
   ]
  },
  {
   "cell_type": "code",
   "execution_count": 58,
   "id": "46f7b9ea-5cc7-46b5-a6ae-4f0a2a31fb5d",
   "metadata": {},
   "outputs": [
    {
     "data": {
      "text/plain": [
       "0             Regents US History&Gov't (Framework)\n",
       "1                        Regents NF Global History\n",
       "2                   Regents Common Core Algebra II\n",
       "3                     Regents Common Core Geometry\n",
       "4                    Regents Common Core Algebra I\n",
       "                            ...                   \n",
       "809215    Regents Common Core English Language Art\n",
       "809216              Regents Common Core Algebra II\n",
       "809217               Regents Common Core Algebra I\n",
       "809218                           Regents Algebra I\n",
       "809219                   Regents Phy Set/Earth Sci\n",
       "Name: SUBJECT, Length: 809220, dtype: object"
      ]
     },
     "execution_count": 58,
     "metadata": {},
     "output_type": "execute_result"
    }
   ],
   "source": [
    "data_regents['SUBJECT']"
   ]
  },
  {
   "cell_type": "code",
   "execution_count": 60,
   "id": "90da7fc7-be2c-4e2a-9263-16851b1d8f9c",
   "metadata": {},
   "outputs": [],
   "source": [
    "# Filter Regents data for Math and ELA subjects\n",
    "math_regents = data_regents[data_regents[\"SUBJECT\"].str.contains(\"Math\", na=False)]\n",
    "ela_regents = data_regents[data_regents[\"SUBJECT\"].str.contains(\"English Language Art\", na=False)]"
   ]
  },
  {
   "cell_type": "code",
   "execution_count": 62,
   "id": "b67db0d7-75fb-4d2f-8919-c1dd610c9d67",
   "metadata": {},
   "outputs": [],
   "source": [
    "# Calculate mean proficiency rates\n",
    "math_regents_proficiency = math_regents[\"PER_PROF\"].mean()\n",
    "ela_regents_proficiency = ela_regents[\"PER_PROF\"].mean()"
   ]
  },
  {
   "cell_type": "code",
   "execution_count": 64,
   "id": "f48df3f4-ac99-4209-a663-683ba39ab35f",
   "metadata": {},
   "outputs": [],
   "source": [
    "# Compute the difference\n",
    "difference = abs(math_regents_proficiency - ela_regents_proficiency)"
   ]
  },
  {
   "cell_type": "code",
   "execution_count": 66,
   "id": "a44b0d84-3952-4044-bf85-578bf45f118e",
   "metadata": {},
   "outputs": [
    {
     "name": "stdout",
     "output_type": "stream",
     "text": [
      "Math Regents Proficiency: nan%\n",
      "ELA Regents Proficiency: 76.44%\n",
      "Difference: nan%\n"
     ]
    }
   ],
   "source": [
    "print(f\"Math Regents Proficiency: {math_regents_proficiency:.2f}%\")\n",
    "print(f\"ELA Regents Proficiency: {ela_regents_proficiency:.2f}%\")\n",
    "print(f\"Difference: {difference:.2f}%\")"
   ]
  },
  {
   "cell_type": "code",
   "execution_count": null,
   "id": "30e91cda-e9aa-4f76-b0b9-e91d9a6f0d39",
   "metadata": {},
   "outputs": [],
   "source": []
  }
 ],
 "metadata": {
  "kernelspec": {
   "display_name": "Python 3 (ipykernel)",
   "language": "python",
   "name": "python3"
  },
  "language_info": {
   "codemirror_mode": {
    "name": "ipython",
    "version": 3
   },
   "file_extension": ".py",
   "mimetype": "text/x-python",
   "name": "python",
   "nbconvert_exporter": "python",
   "pygments_lexer": "ipython3",
   "version": "3.12.7"
  }
 },
 "nbformat": 4,
 "nbformat_minor": 5
}
