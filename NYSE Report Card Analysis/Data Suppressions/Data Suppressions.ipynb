{
 "cells": [
  {
   "cell_type": "markdown",
   "id": "f4ddb96d-edb5-4da6-9f67-ac4f1841e06b",
   "metadata": {},
   "source": [
    "### Data Suppressions and Small Group Insights\n",
    "1. How many data points are suppressed (s) across all tables, and what subgroups are most affected?\n",
    "2. How does combining small groups (e.g., Small Group Total) affect overall proficiency rates?\n",
    "3. Is there a notable performance difference between suppressed and non-suppressed groups?\n",
    "4. Are suppressed subgroups more common in specific grades or subjects?\n",
    "5. How often is gender data suppressed in comparison to race/ethnicity data?\n"
   ]
  },
  {
   "cell_type": "code",
   "execution_count": null,
   "id": "d7cac503-083d-4502-87e5-0990b45d9db3",
   "metadata": {},
   "outputs": [],
   "source": []
  },
  {
   "cell_type": "markdown",
   "id": "a50ab4a3-0eeb-462e-9685-31582b3b01ca",
   "metadata": {},
   "source": [
    "#### How many data points are suppressed (s) across all tables, and what subgroups are most affected?"
   ]
  },
  {
   "cell_type": "code",
   "execution_count": 6,
   "id": "a585057a-ecd2-4549-842e-1d42e174c823",
   "metadata": {},
   "outputs": [],
   "source": [
    "import pandas as pd"
   ]
  },
  {
   "cell_type": "code",
   "execution_count": 8,
   "id": "f4cc9553-4ed3-4d82-b49d-890b6bd5f7e1",
   "metadata": {},
   "outputs": [],
   "source": [
    "# Load datasets\n",
    "data_ela = pd.read_excel(r'E:\\Data Analytics\\NYSE Report Card\\Annual_EM_ELA.xlsx')"
   ]
  },
  {
   "cell_type": "code",
   "execution_count": 10,
   "id": "b174a264-23b4-413b-a75e-87c28389c593",
   "metadata": {},
   "outputs": [],
   "source": [
    "data_math = pd.read_excel(r'E:\\Data Analytics\\NYSE Report Card\\Annual_EM_MATH.xlsx')"
   ]
  },
  {
   "cell_type": "code",
   "execution_count": 12,
   "id": "c2c15658-e809-438c-a7be-411d7555d776",
   "metadata": {},
   "outputs": [],
   "source": [
    "data_science = pd.read_excel(r'E:\\Data Analytics\\NYSE Report Card\\Annual_EM_SCIENCE.xlsx')"
   ]
  },
  {
   "cell_type": "code",
   "execution_count": 14,
   "id": "1c58f879-d23d-4936-a2b5-0c8869804ea9",
   "metadata": {},
   "outputs": [],
   "source": [
    "# Check for suppressed values ('s') in relevant columns across all subjects\n",
    "suppressions_ela = (data_ela == \"s\").sum().sum()\n",
    "suppressions_math = (data_math == \"s\").sum().sum()\n",
    "suppressions_science = (data_science == \"s\").sum().sum()"
   ]
  },
  {
   "cell_type": "code",
   "execution_count": 16,
   "id": "7552418b-9b21-455e-af7a-1e6326c6601a",
   "metadata": {},
   "outputs": [],
   "source": [
    "# Total suppressions\n",
    "total_suppressions = suppressions_ela + suppressions_math + suppressions_science"
   ]
  },
  {
   "cell_type": "code",
   "execution_count": 18,
   "id": "67c9227c-27e4-4801-af8f-1a0b14833359",
   "metadata": {},
   "outputs": [
    {
     "name": "stdout",
     "output_type": "stream",
     "text": [
      "Total Suppressed Data Points Across All Subjects: 4486928\n"
     ]
    }
   ],
   "source": [
    "print(f\"Total Suppressed Data Points Across All Subjects: {total_suppressions}\")"
   ]
  },
  {
   "cell_type": "code",
   "execution_count": 20,
   "id": "1403ff3a-4f07-4fde-99fa-2c24140cbd88",
   "metadata": {},
   "outputs": [],
   "source": [
    "# Identify subgroups most affected in each dataset\n",
    "def subgroup_suppressions(data, column):\n",
    "    suppressed_subgroups = data[data[column] == \"s\"][\"SUBGROUP_NAME\"].value_counts()\n",
    "    return suppressed_subgroups"
   ]
  },
  {
   "cell_type": "code",
   "execution_count": 22,
   "id": "d820f242-40ab-4dff-a961-518297c68e55",
   "metadata": {},
   "outputs": [],
   "source": [
    "ela_suppressions = subgroup_suppressions(data_ela, \"PER_PROF\")\n",
    "math_suppressions = subgroup_suppressions(data_math, \"PER_PROF\")\n",
    "science_suppressions = subgroup_suppressions(data_science, \"PER_PROF\")"
   ]
  },
  {
   "cell_type": "code",
   "execution_count": 24,
   "id": "513d5a91-390b-4941-afdc-4baa0472bfb2",
   "metadata": {},
   "outputs": [
    {
     "name": "stdout",
     "output_type": "stream",
     "text": [
      "ELA Suppressed Subgroups:\n",
      "SUBGROUP_NAME\n",
      "Multiracial                                        16843\n",
      "Black or African American                          12977\n",
      "Asian or Native Hawaiian/Other Pacific Islander    12784\n",
      "Not Homeless                                       12475\n",
      "Homeless                                           12237\n",
      "Hispanic or Latino                                 11462\n",
      "Non-English Language Learner                       10715\n",
      "White                                              10512\n",
      "English Language Learner                           10476\n",
      "American Indian or Alaska Native                    7383\n",
      "Not in Foster Care                                  6474\n",
      "In Foster Care                                      6221\n",
      "Students with Disabilities                          5449\n",
      "General Education Students                          5429\n",
      "Economically Disadvantaged                          4686\n",
      "Not Economically Disadvantaged                      4654\n",
      "Parent Not in Armed Forces                          4559\n",
      "Parent in Armed Forces                              4306\n",
      "Not Migrant                                         2181\n",
      "Migrant                                             1929\n",
      "Female                                              1437\n",
      "Male                                                1188\n",
      "Non-Binary                                           860\n",
      "All Students                                         386\n",
      "Small Group Total: Gender                            253\n",
      "Small Group Total: Race & Ethnicity                  253\n",
      "Name: count, dtype: int64\n",
      "Math Suppressed Subgroups:\n",
      "SUBGROUP_NAME\n",
      "Multiracial                                        16644\n",
      "Black or African American                          12892\n",
      "Asian or Native Hawaiian/Other Pacific Islander    12635\n",
      "Not Homeless                                       12014\n",
      "Homeless                                           11694\n",
      "Hispanic or Latino                                 11437\n",
      "White                                              10611\n",
      "Non-English Language Learner                       10012\n",
      "English Language Learner                            9707\n",
      "American Indian or Alaska Native                    7164\n",
      "Not in Foster Care                                  6404\n",
      "In Foster Care                                      6041\n",
      "Students with Disabilities                          5668\n",
      "General Education Students                          5604\n",
      "Economically Disadvantaged                          4758\n",
      "Not Economically Disadvantaged                      4696\n",
      "Parent Not in Armed Forces                          4608\n",
      "Parent in Armed Forces                              4245\n",
      "All Students                                        2774\n",
      "Not Migrant                                         2405\n",
      "Migrant                                             2045\n",
      "Female                                              1558\n",
      "Male                                                1325\n",
      "Non-Binary                                           784\n",
      "Small Group Total: Gender                            363\n",
      "Small Group Total: Race & Ethnicity                  363\n",
      "Name: count, dtype: int64\n",
      "Science Suppressed Subgroups:\n",
      "SUBGROUP_NAME\n",
      "Multiracial                                        3445\n",
      "Black or African American                          2712\n",
      "Hispanic or Latino                                 2642\n",
      "Asian or Native Hawaiian/Other Pacific Islander    2625\n",
      "Not Homeless                                       2523\n",
      "White                                              2424\n",
      "Homeless                                           2385\n",
      "Non-English Language Learner                       2183\n",
      "English Language Learner                           2064\n",
      "Not in Foster Care                                 1427\n",
      "American Indian or Alaska Native                   1386\n",
      "Students with Disabilities                         1343\n",
      "General Education Students                         1279\n",
      "In Foster Care                                     1269\n",
      "Economically Disadvantaged                         1151\n",
      "Not Economically Disadvantaged                     1139\n",
      "Parent Not in Armed Forces                         1031\n",
      "All Students                                        969\n",
      "Parent in Armed Forces                              873\n",
      "Not Migrant                                         617\n",
      "Female                                              515\n",
      "Male                                                463\n",
      "Migrant                                             461\n",
      "Non-Binary                                          246\n",
      "Small Group Total: Gender                           158\n",
      "Small Group Total: Race & Ethnicity                 158\n",
      "Name: count, dtype: int64\n"
     ]
    }
   ],
   "source": [
    "print(\"ELA Suppressed Subgroups:\")\n",
    "print(ela_suppressions)\n",
    "print(\"Math Suppressed Subgroups:\")\n",
    "print(math_suppressions)\n",
    "print(\"Science Suppressed Subgroups:\")\n",
    "print(science_suppressions)"
   ]
  },
  {
   "cell_type": "code",
   "execution_count": null,
   "id": "fce4eee2-c013-43bc-a610-56ff577432cd",
   "metadata": {},
   "outputs": [],
   "source": []
  },
  {
   "cell_type": "markdown",
   "id": "ec2323ee-b5a6-46c9-a80a-55025355e169",
   "metadata": {},
   "source": [
    "#### How does combining small groups (e.g., Small Group Total) affect overall proficiency rates?"
   ]
  },
  {
   "cell_type": "code",
   "execution_count": 32,
   "id": "ca68ee9d-21b2-461e-b277-22f4772effd2",
   "metadata": {},
   "outputs": [],
   "source": [
    "# Handle 'PER_PROF' by converting to numeric and coercing invalid entries (e.g., 's') to NaN\n",
    "data_ela[\"PER_PROF\"] = pd.to_numeric(data_ela[\"PER_PROF\"], errors=\"coerce\")\n",
    "data_math[\"PER_PROF\"] = pd.to_numeric(data_math[\"PER_PROF\"], errors=\"coerce\")\n",
    "data_science[\"PER_PROF\"] = pd.to_numeric(data_science[\"PER_PROF\"], errors=\"coerce\")"
   ]
  },
  {
   "cell_type": "code",
   "execution_count": 34,
   "id": "1bce7ac2-a7ea-4e5a-89f6-e954836dbb8c",
   "metadata": {},
   "outputs": [],
   "source": [
    "# Filter for rows with \"Small Group Total\" in subgroup names\n",
    "small_group_ela = data_ela[data_ela[\"SUBGROUP_NAME\"].str.contains(\"Small Group Total\", na=False)]\n",
    "small_group_math = data_math[data_math[\"SUBGROUP_NAME\"].str.contains(\"Small Group Total\", na=False)]\n",
    "small_group_science = data_science[data_science[\"SUBGROUP_NAME\"].str.contains(\"Small Group Total\", na=False)]"
   ]
  },
  {
   "cell_type": "code",
   "execution_count": 36,
   "id": "57733bdf-5505-4f94-b5b5-2dc599d65de7",
   "metadata": {},
   "outputs": [],
   "source": [
    "# Calculate proficiency rates for small groups and overall\n",
    "small_group_proficiency = pd.concat([small_group_ela, small_group_math, small_group_science])[\"PER_PROF\"].mean()\n",
    "overall_proficiency = pd.concat([data_ela, data_math, data_science])[\"PER_PROF\"].mean()"
   ]
  },
  {
   "cell_type": "code",
   "execution_count": 38,
   "id": "e0c17d74-477c-4254-9952-3b2e98d30673",
   "metadata": {},
   "outputs": [
    {
     "name": "stdout",
     "output_type": "stream",
     "text": [
      "Small Group Proficiency Rate: 47.07%\n",
      "Overall Proficiency Rate: 45.21%\n"
     ]
    }
   ],
   "source": [
    "print(f\"Small Group Proficiency Rate: {small_group_proficiency:.2f}%\")\n",
    "print(f\"Overall Proficiency Rate: {overall_proficiency:.2f}%\")"
   ]
  },
  {
   "cell_type": "code",
   "execution_count": null,
   "id": "9416db20-6151-4896-95e8-211003547fc1",
   "metadata": {},
   "outputs": [],
   "source": []
  },
  {
   "cell_type": "markdown",
   "id": "3ad3e4b5-dc37-4c6b-b863-dfa3c6a69a60",
   "metadata": {},
   "source": [
    "#### Is there a notable performance difference between suppressed and non-suppressed groups?"
   ]
  },
  {
   "cell_type": "code",
   "execution_count": 44,
   "id": "947a7a3e-87b5-4918-8563-9d04e6e1317c",
   "metadata": {},
   "outputs": [],
   "source": [
    "all_subjects = pd.concat([data_ela, data_math, data_science])"
   ]
  },
  {
   "cell_type": "code",
   "execution_count": 46,
   "id": "17e45290-178d-4fca-a0c4-9c4131fa0153",
   "metadata": {},
   "outputs": [],
   "source": [
    "# Identify rows with suppressed data and without suppressed data\n",
    "suppressed_data = all_subjects[(all_subjects == \"s\").any(axis=1)]\n",
    "non_suppressed_data = all_subjects[~(all_subjects == \"s\").any(axis=1)]"
   ]
  },
  {
   "cell_type": "code",
   "execution_count": 48,
   "id": "37963e02-9096-427f-8ecb-3c74907dc97a",
   "metadata": {},
   "outputs": [
    {
     "name": "stderr",
     "output_type": "stream",
     "text": [
      "C:\\Users\\Hp\\AppData\\Local\\Temp\\ipykernel_13668\\1583004105.py:2: SettingWithCopyWarning: \n",
      "A value is trying to be set on a copy of a slice from a DataFrame.\n",
      "Try using .loc[row_indexer,col_indexer] = value instead\n",
      "\n",
      "See the caveats in the documentation: https://pandas.pydata.org/pandas-docs/stable/user_guide/indexing.html#returning-a-view-versus-a-copy\n",
      "  suppressed_data[\"PER_PROF\"] = pd.to_numeric(suppressed_data[\"PER_PROF\"], errors=\"coerce\")\n",
      "C:\\Users\\Hp\\AppData\\Local\\Temp\\ipykernel_13668\\1583004105.py:3: SettingWithCopyWarning: \n",
      "A value is trying to be set on a copy of a slice from a DataFrame.\n",
      "Try using .loc[row_indexer,col_indexer] = value instead\n",
      "\n",
      "See the caveats in the documentation: https://pandas.pydata.org/pandas-docs/stable/user_guide/indexing.html#returning-a-view-versus-a-copy\n",
      "  non_suppressed_data[\"PER_PROF\"] = pd.to_numeric(non_suppressed_data[\"PER_PROF\"], errors=\"coerce\")\n"
     ]
    }
   ],
   "source": [
    "# Convert PER_PROF to numeric where applicable\n",
    "suppressed_data[\"PER_PROF\"] = pd.to_numeric(suppressed_data[\"PER_PROF\"], errors=\"coerce\")\n",
    "non_suppressed_data[\"PER_PROF\"] = pd.to_numeric(non_suppressed_data[\"PER_PROF\"], errors=\"coerce\")"
   ]
  },
  {
   "cell_type": "code",
   "execution_count": 50,
   "id": "cfc01186-6bd1-4069-88bf-33e173d70273",
   "metadata": {},
   "outputs": [],
   "source": [
    "# Calculate mean proficiency rates\n",
    "suppressed_rate = suppressed_data[\"PER_PROF\"].mean()\n",
    "non_suppressed_rate = non_suppressed_data[\"PER_PROF\"].mean()"
   ]
  },
  {
   "cell_type": "code",
   "execution_count": 52,
   "id": "a619173f-d2af-450a-84ac-b9442c3d2c3d",
   "metadata": {},
   "outputs": [
    {
     "name": "stdout",
     "output_type": "stream",
     "text": [
      "Mean Proficiency Rate for Suppressed Groups: nan%\n",
      "Mean Proficiency Rate for Non-Suppressed Groups: 45.21%\n"
     ]
    }
   ],
   "source": [
    "print(f\"Mean Proficiency Rate for Suppressed Groups: {suppressed_rate:.2f}%\")\n",
    "print(f\"Mean Proficiency Rate for Non-Suppressed Groups: {non_suppressed_rate:.2f}%\")"
   ]
  },
  {
   "cell_type": "code",
   "execution_count": null,
   "id": "6adbb206-3fd3-4e10-842b-60818df65681",
   "metadata": {},
   "outputs": [],
   "source": []
  },
  {
   "cell_type": "markdown",
   "id": "c43a7cfa-e62d-4b6b-a076-e91b0955b050",
   "metadata": {},
   "source": [
    "#### Are suppressed subgroups more common in specific grades or subjects?"
   ]
  },
  {
   "cell_type": "code",
   "execution_count": 56,
   "id": "28d1c524-52f8-4bc8-b1d6-be763b4fe18f",
   "metadata": {},
   "outputs": [],
   "source": [
    "# Count suppressions by assessment name (grade/subject)\n",
    "def count_suppressions_by_subject(data, column):\n",
    "    suppressions_by_subject = data[data[column] == \"s\"][\"ASSESSMENT_NAME\"].value_counts()\n",
    "    return suppressions_by_subject"
   ]
  },
  {
   "cell_type": "code",
   "execution_count": 58,
   "id": "f43a1b9d-a80d-42af-93d0-f39903d61eea",
   "metadata": {},
   "outputs": [],
   "source": [
    "ela_suppressions_by_grade = count_suppressions_by_subject(data_ela, \"PER_PROF\")\n",
    "math_suppressions_by_grade = count_suppressions_by_subject(data_math, \"PER_PROF\")\n",
    "science_suppressions_by_grade = count_suppressions_by_subject(data_science, \"PER_PROF\")"
   ]
  },
  {
   "cell_type": "code",
   "execution_count": 60,
   "id": "87d3b753-67f1-4b47-81d4-5079fa2e11ad",
   "metadata": {},
   "outputs": [
    {
     "name": "stdout",
     "output_type": "stream",
     "text": [
      "Suppressions by Grade/Subject for ELA:\n",
      "Series([], Name: count, dtype: int64)\n",
      "Suppressions by Grade/Subject for Math:\n",
      "Series([], Name: count, dtype: int64)\n",
      "Suppressions by Grade/Subject for Science:\n",
      "Series([], Name: count, dtype: int64)\n"
     ]
    }
   ],
   "source": [
    "print(\"Suppressions by Grade/Subject for ELA:\")\n",
    "print(ela_suppressions_by_grade)\n",
    "print(\"Suppressions by Grade/Subject for Math:\")\n",
    "print(math_suppressions_by_grade)\n",
    "print(\"Suppressions by Grade/Subject for Science:\")\n",
    "print(science_suppressions_by_grade)"
   ]
  },
  {
   "cell_type": "code",
   "execution_count": null,
   "id": "ad325711-537f-4999-9994-03c96a6a7022",
   "metadata": {},
   "outputs": [],
   "source": []
  },
  {
   "cell_type": "markdown",
   "id": "e666fd89-d36e-4bd8-96f5-47a42509e3f3",
   "metadata": {},
   "source": [
    "#### How often is gender data suppressed in comparison to race/ethnicity data?"
   ]
  },
  {
   "cell_type": "code",
   "execution_count": 64,
   "id": "78008486-0327-4294-98ad-7b26097fc47f",
   "metadata": {},
   "outputs": [],
   "source": [
    "# Filter for gender-related subgroups\n",
    "gender_suppressions = all_subjects[all_subjects[\"SUBGROUP_NAME\"].str.contains(\"Female|Male|Non-Binary\", na=False)]\n",
    "race_suppressions = all_subjects[all_subjects[\"SUBGROUP_NAME\"].str.contains(\"American Indian|Asian|Black|Hispanic|White|Multiracial\", na=False)]"
   ]
  },
  {
   "cell_type": "code",
   "execution_count": 66,
   "id": "5ad98e80-e23f-418d-8fbd-acb78191eaf2",
   "metadata": {},
   "outputs": [],
   "source": [
    "# Count suppressed values\n",
    "gender_suppressed_count = (gender_suppressions == \"s\").sum().sum()\n",
    "race_suppressed_count = (race_suppressions == \"s\").sum().sum()"
   ]
  },
  {
   "cell_type": "code",
   "execution_count": 68,
   "id": "796ba9d9-4a85-4bef-8cab-78d415c102a8",
   "metadata": {},
   "outputs": [
    {
     "name": "stdout",
     "output_type": "stream",
     "text": [
      "Gender Suppressions: 92136\n",
      "Race/Ethnicity Suppressions: 1744358\n"
     ]
    }
   ],
   "source": [
    "print(f\"Gender Suppressions: {gender_suppressed_count}\")\n",
    "print(f\"Race/Ethnicity Suppressions: {race_suppressed_count}\")"
   ]
  },
  {
   "cell_type": "code",
   "execution_count": null,
   "id": "1258f8cf-59ba-4a4e-bf5a-fffac7c50aa2",
   "metadata": {},
   "outputs": [],
   "source": []
  },
  {
   "cell_type": "code",
   "execution_count": null,
   "id": "2ed9e4e9-2c8b-40ad-b263-70c54a5ee4db",
   "metadata": {},
   "outputs": [],
   "source": []
  }
 ],
 "metadata": {
  "kernelspec": {
   "display_name": "Python 3 (ipykernel)",
   "language": "python",
   "name": "python3"
  },
  "language_info": {
   "codemirror_mode": {
    "name": "ipython",
    "version": 3
   },
   "file_extension": ".py",
   "mimetype": "text/x-python",
   "name": "python",
   "nbconvert_exporter": "python",
   "pygments_lexer": "ipython3",
   "version": "3.12.7"
  }
 },
 "nbformat": 4,
 "nbformat_minor": 5
}
