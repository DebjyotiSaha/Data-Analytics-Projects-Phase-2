{
 "cells": [
  {
   "cell_type": "markdown",
   "id": "bd994dda-a43e-4baf-99fa-adde695e848c",
   "metadata": {},
   "source": [
    "#### Key Features of the Code\n",
    "##### 1. Missing Values: Handles missing numerical values by replacing them with the column mean.\n",
    "##### 2. Datetime Processing: Converts datetime into year, month, day, and hour for analysis.\n",
    "##### 3. Normalisation: Scales hyperspectral data for better model performance.\n",
    "##### 4. Output: Saves the preprocessed dataset to a CSV file."
   ]
  },
  {
   "cell_type": "code",
   "execution_count": 2,
   "id": "5aa13f6b-2050-4122-aac0-6b088c2b823d",
   "metadata": {},
   "outputs": [],
   "source": [
    "import pandas as pd\n",
    "import numpy as np\n",
    "from sklearn.impute import SimpleImputer\n",
    "from sklearn.preprocessing import StandardScaler"
   ]
  },
  {
   "cell_type": "code",
   "execution_count": 3,
   "id": "a2a6fbe0-78e1-4d8a-8401-09605a48208c",
   "metadata": {},
   "outputs": [],
   "source": [
    "import warnings\n",
    "warnings.filterwarnings(\"ignore\")"
   ]
  },
  {
   "cell_type": "code",
   "execution_count": 4,
   "id": "3cb3abb6-7458-4669-a84e-3958f9ec4087",
   "metadata": {},
   "outputs": [],
   "source": [
    "data = pd.read_csv(r\"E:\\Data Analytics\\Hyperspectral Soil Moisture\\soilmoisture_dataset.csv\")"
   ]
  },
  {
   "cell_type": "code",
   "execution_count": 5,
   "id": "41c018ed-c2e6-42e0-955b-6922898d8cda",
   "metadata": {},
   "outputs": [
    {
     "name": "stdout",
     "output_type": "stream",
     "text": [
      "Initial Data Overview:\n",
      "   index             datetime  soil_moisture  soil_temperature       454  \\\n",
      "0      0  2017-05-23 14:06:17          33.51              34.8  0.082131   \n",
      "1      1  2017-05-23 14:08:17          33.49              35.2  0.079510   \n",
      "2      2  2017-05-23 14:10:17          33.46              35.4  0.080599   \n",
      "3      3  2017-05-23 14:12:17          33.33              35.0  0.078024   \n",
      "4      4  2017-05-23 14:14:17          33.32              35.3  0.079973   \n",
      "\n",
      "        458       462       466       470       474  ...       914       918  \\\n",
      "0  0.055863  0.050047  0.047925  0.047498  0.046464  ...  0.152845  0.152615   \n",
      "1  0.055326  0.049116  0.047579  0.046745  0.046833  ...  0.152715  0.153102   \n",
      "2  0.054065  0.049150  0.047537  0.046525  0.046032  ...  0.152362  0.152158   \n",
      "3  0.054972  0.049052  0.047920  0.046883  0.046775  ...  0.153281  0.153990   \n",
      "4  0.055335  0.049314  0.047373  0.047028  0.046963  ...  0.152803  0.153085   \n",
      "\n",
      "        922       926       930       934       938       942       946  \\\n",
      "0  0.152927  0.154240  0.155018  0.154725  0.154682  0.154275  0.153477   \n",
      "1  0.153551  0.153590  0.153688  0.153370  0.154021  0.155543  0.156220   \n",
      "2  0.153204  0.153942  0.154610  0.154629  0.155609  0.155545  0.154884   \n",
      "3  0.154499  0.155012  0.154691  0.154643  0.155405  0.155918  0.157645   \n",
      "4  0.153295  0.154230  0.155071  0.155624  0.156504  0.156859  0.156634   \n",
      "\n",
      "        950  \n",
      "0  0.153929  \n",
      "1  0.156727  \n",
      "2  0.154485  \n",
      "3  0.157824  \n",
      "4  0.156176  \n",
      "\n",
      "[5 rows x 129 columns]\n"
     ]
    }
   ],
   "source": [
    "print('Initial Data Overview:')\n",
    "print(data.head())"
   ]
  },
  {
   "cell_type": "code",
   "execution_count": 6,
   "id": "faa6e84f-4ce3-4f4e-a00b-a2f4ccd35607",
   "metadata": {},
   "outputs": [
    {
     "name": "stdout",
     "output_type": "stream",
     "text": [
      "<class 'pandas.core.frame.DataFrame'>\n",
      "RangeIndex: 679 entries, 0 to 678\n",
      "Columns: 129 entries, index to 950\n",
      "dtypes: float64(127), int64(1), object(1)\n",
      "memory usage: 684.4+ KB\n"
     ]
    }
   ],
   "source": [
    "data.info()"
   ]
  },
  {
   "cell_type": "code",
   "execution_count": 7,
   "id": "7d65d842-34cb-4b78-ad2b-57029c0a1e95",
   "metadata": {},
   "outputs": [],
   "source": [
    "#Handle missing values\n",
    "# Fill numerical columns with the mean\n",
    "\n",
    "numerical_columns = data.select_dtypes(include=np.number).columns\n",
    "imputer = SimpleImputer(strategy='mean')\n",
    "data[numerical_columns] = imputer.fit_transform(data[numerical_columns])"
   ]
  },
  {
   "cell_type": "code",
   "execution_count": 8,
   "id": "9e936c27-b158-4e54-ad8c-a8e90948af5a",
   "metadata": {},
   "outputs": [],
   "source": [
    "#Convert datetime to a datetime object and extract useful features\n",
    "if 'datetime' in data.columns:\n",
    "    data['datetime'] = pd.to_datetime(data['datetime'])\n",
    "    data['year'] = data['datetime'].dt.year\n",
    "    data['month'] = data['datetime'].dt.month\n",
    "    data['day'] = data['datetime'].dt.day\n",
    "    data['hour'] = data['datetime'].dt.hour\n",
    "    data.drop(columns=['datetime'], inplace=True)"
   ]
  },
  {
   "cell_type": "code",
   "execution_count": 9,
   "id": "d2f7a80d-8fe3-4da0-bcc4-c4d36ac0bd44",
   "metadata": {},
   "outputs": [],
   "source": [
    "#Normalise hyperspectral data\n",
    "hyperspectral_columns = [col for col in data.columns if col.isdigit()]\n",
    "scaler = StandardScaler()\n",
    "data[hyperspectral_columns] = scaler.fit_transform(data[hyperspectral_columns])"
   ]
  },
  {
   "cell_type": "code",
   "execution_count": 10,
   "id": "9eb97d2d-c1e0-4aef-82ce-286d55d9935a",
   "metadata": {},
   "outputs": [
    {
     "name": "stdout",
     "output_type": "stream",
     "text": [
      "\n",
      "Preprocessed Data Overview:\n",
      "   index  soil_moisture  soil_temperature       454       458       462  \\\n",
      "0    0.0          33.51              34.8 -0.820790 -0.933076 -0.911946   \n",
      "1    1.0          33.49              35.2 -0.913318 -0.962229 -0.968456   \n",
      "2    2.0          33.46              35.4 -0.874888 -1.030703 -0.966399   \n",
      "3    3.0          33.33              35.0 -0.965790 -0.981437 -0.972359   \n",
      "4    4.0          33.32              35.3 -0.896976 -0.961759 -0.956435   \n",
      "\n",
      "        466       470       474       478  ...       930       934       938  \\\n",
      "0 -0.918558 -0.895983 -0.937692 -0.916785  ... -0.844442 -0.848906 -0.847418   \n",
      "1 -0.940140 -0.942926 -0.914833 -0.937676  ... -0.878898 -0.883832 -0.864402   \n",
      "2 -0.942754 -0.956636 -0.964497 -0.940893  ... -0.855017 -0.851385 -0.823587   \n",
      "3 -0.918834 -0.934312 -0.918411 -0.906604  ... -0.852920 -0.851014 -0.828813   \n",
      "4 -0.953026 -0.925257 -0.906755 -0.911004  ... -0.843084 -0.825724 -0.800567   \n",
      "\n",
      "        942       946       950  year  month  day  hour  \n",
      "0 -0.852499 -0.864668 -0.841753  2017      5   23    14  \n",
      "1 -0.819999 -0.794575 -0.770620  2017      5   23    14  \n",
      "2 -0.819934 -0.828697 -0.827617  2017      5   23    14  \n",
      "3 -0.810390 -0.758144 -0.742757  2017      5   23    14  \n",
      "4 -0.786257 -0.783971 -0.784635  2017      5   23    14  \n",
      "\n",
      "[5 rows x 132 columns]\n"
     ]
    }
   ],
   "source": [
    "print('\\nPreprocessed Data Overview:')\n",
    "print(data.head())"
   ]
  },
  {
   "cell_type": "code",
   "execution_count": 11,
   "id": "2f75ed02-8d3e-4a44-bb03-9b9947d819fd",
   "metadata": {},
   "outputs": [
    {
     "name": "stdout",
     "output_type": "stream",
     "text": [
      "Preprocessed data saved to preprocessed_dataset.csv\n"
     ]
    }
   ],
   "source": [
    "#Saving the preprocessed data\n",
    "output_path = 'preprocessed_dataset.csv'\n",
    "data.to_csv(output_path, index=False)\n",
    "print(f\"Preprocessed data saved to {output_path}\")"
   ]
  },
  {
   "cell_type": "code",
   "execution_count": null,
   "id": "a08265c7-8c4c-4356-9cd2-0f4f3eea0fd1",
   "metadata": {},
   "outputs": [],
   "source": []
  }
 ],
 "metadata": {
  "kernelspec": {
   "display_name": "Python 3 (ipykernel)",
   "language": "python",
   "name": "python3"
  },
  "language_info": {
   "codemirror_mode": {
    "name": "ipython",
    "version": 3
   },
   "file_extension": ".py",
   "mimetype": "text/x-python",
   "name": "python",
   "nbconvert_exporter": "python",
   "pygments_lexer": "ipython3",
   "version": "3.12.7"
  }
 },
 "nbformat": 4,
 "nbformat_minor": 5
}
